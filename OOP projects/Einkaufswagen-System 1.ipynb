{
 "cells": [
  {
   "cell_type": "code",
   "execution_count": null,
   "id": "710e2745-bb49-4774-ba50-74031328cc09",
   "metadata": {},
   "outputs": [],
   "source": [
    "class Produkt:\n",
    "    def __init__(self,name,preis,menge=1):\n",
    "        self.name = name.lower().capitalize() # Hier wird jeder Name in Kleinbuchstaben und dann das erste buchstabe in Großbuchstabe geändert\n",
    "        self.preis = preis\n",
    "        self.menge = menge\n",
    "        \n",
    "    def __str__(self):\n",
    "        return f\"Name: {self.name}\\nPreis: {self.preis}€\\nMenge: {self.menge}\""
   ]
  },
  {
   "cell_type": "code",
   "execution_count": null,
   "id": "5c47ae85-defd-43c5-9f57-eb8edc6b269a",
   "metadata": {},
   "outputs": [],
   "source": [
    "class Einkaufswagen:\n",
    "    def __init__(self):\n",
    "        self.einkaufsliste = []\n",
    "\n",
    "    def produkt_hinzufügen(self,produkt):\n",
    "        self.einkaufsliste.append(produkt) #Hier wird das Produkt in der Einkaufswagen hinzugefügt\n",
    "        print(\"Das Produkt wurde erfolgreich hinzugefügt. Hier sind die Informationen des Produkts: \")\n",
    "        print(f\"Name: {produkt.name}\\nPreis: {produkt.preis}€\\nMenge: {produkt.menge}\\n\")\n",
    "\n",
    "    def produkt_entfernen(self,produkt):\n",
    "        if produkt in self.einkaufsliste:\n",
    "            self.einkaufsliste.append(produkt) #Hier wird das Produkt in der Einkaufswagen entfernt\n",
    "            print(f\"Das Produkt {produkt.name} wurde erfolgreich entfernt.\\n\")\n",
    "        else:\n",
    "            print(f\"Das Produkt {produkt.name} wurde nicht in der Einkaufsliste hinzugefügt. Deswegen Können sie das nicht entfernen.\\n\")\n",
    "\n",
    "    def warenkorb_anzeigen(self):\n",
    "        print(f\"Ihre Einkausliste enthält diese Produkte: \")\n",
    "        for element in self.einkaufsliste: \n",
    "            print(f\"{element}\\n\")"
   ]
  },
  {
   "cell_type": "code",
   "execution_count": null,
   "id": "2e0dc120-6b47-4257-a4a0-aeac3fa6242f",
   "metadata": {},
   "outputs": [],
   "source": [
    "class Kunde:\n",
    "    def __init__(self,name):\n",
    "        self.name = name\n",
    "        self.einkaufswagen = []\n",
    "\n",
    "    def produkt_kaufen(self,produkt):\n",
    "        self.einkaufswagen.append(produkt)\n",
    "        print(\"Das Produkt wurde erfolgreich gekauft. Hier sind die Informationen des Produkts: \")\n",
    "        print(f\"Name: {produkt.name}\\nPreis: {produkt.preis}€\\nMenge: {produkt.menge}\\n\")\n",
    "\n",
    "    def warenkorb_leeren(self,list):\n",
    "        for element in list.einkaufsliste:\n",
    "            list.einkaufsliste.clear()\n",
    "        print(\"Jetzt ist Ihre Einkaufswagen leer.\",\"\\n\")"
   ]
  },
  {
   "cell_type": "code",
   "execution_count": null,
   "id": "c22ac495-9251-4db5-9ca7-da82e32dce5a",
   "metadata": {},
   "outputs": [],
   "source": [
    "product1 = Produkt(\"Tisch\",30.5,2)\n",
    "product2 = Produkt(\"Brot\",1,4)\n",
    "product3 = Produkt(\"Smartphone\",176.5,1)\n",
    "\n",
    "list = Einkaufswagen()\n",
    "list.produkt_hinzufügen(product1)\n",
    "list.produkt_hinzufügen(product3)\n",
    "list.produkt_entfernen(product2)\n",
    "list.warenkorb_anzeigen()"
   ]
  }
 ],
 "metadata": {
  "kernelspec": {
   "display_name": "Python 3 (ipykernel)",
   "language": "python",
   "name": "python3"
  },
  "language_info": {
   "codemirror_mode": {
    "name": "ipython",
    "version": 3
   },
   "file_extension": ".py",
   "mimetype": "text/x-python",
   "name": "python",
   "nbconvert_exporter": "python",
   "pygments_lexer": "ipython3",
   "version": "3.11.7"
  }
 },
 "nbformat": 4,
 "nbformat_minor": 5
}
