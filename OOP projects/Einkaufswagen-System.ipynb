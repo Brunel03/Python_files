{
 "cells": [
  {
   "cell_type": "code",
   "execution_count": 69,
   "id": "dae147d8-289a-4d7a-ac87-225746bda94f",
   "metadata": {},
   "outputs": [],
   "source": [
    "class Produkt:\n",
    "    def __init__(self,name,preis=\"unknown\",menge=1):\n",
    "        self.name = name.lower().capitalize() # Hier wird jeder Name in Kleinbuchstaben und dann das erste buchstabe in Großbuchstabe geändert\n",
    "        self.preis = preis\n",
    "        self.menge = menge\n",
    "        \"\"\"\n",
    "        if preis == \"unknown\":\n",
    "            self.total = \"Kein Preis wurde gegeben\"\n",
    "        else:\n",
    "            self.total = preis * menge\n",
    "        \"\"\"\n",
    "        \n",
    "    def __str__(self):\n",
    "        if self.preis == \"unknown\":\n",
    "            return f\"Name: {self.name}\\nPreis: {self.preis}\\nMenge: {self.menge}\"\n",
    "        else: \n",
    "            return f\"Name: {self.name}\\nPreis: {self.preis}€\\nMenge: {self.menge}\"\n",
    "    "
   ]
  },
  {
   "cell_type": "code",
   "execution_count": 70,
   "id": "6e7063d9-7891-4659-88d5-d706fc29f21d",
   "metadata": {},
   "outputs": [],
   "source": [
    "class Einkaufswagen:\n",
    "    def __init__(self):\n",
    "        self.einkaufsliste = []\n",
    "\n",
    "    def produkt_hinzufügen(self,produkt):\n",
    "        self.einkaufsliste.append(produkt) #Hier wird das Produkt in der Einkaufswagen hinzugefügt\n",
    "        print(\"Das Produkt wurde erfolgreich hinzugefügt. Hier sind die Informationen des Produkts: \")\n",
    "        print(f\"Name: {produkt.name}\\nPreis: {produkt.preis}€\\nMenge: {produkt.menge}\\n\")\n",
    "\n",
    "    def produkt_entfernen(self,produkt):\n",
    "        if produkt in self.einkaufsliste:\n",
    "            self.einkaufsliste.append(produkt) #Hier wird das Produkt in der Einkaufswagen entfernt\n",
    "            print(f\"Das Produkt {produkt.name} wurde erfolgreich entfernt.\\n\")\n",
    "        else:\n",
    "            print(f\"Das Produkt {produkt.name} wurde nicht in der Einkaufsliste hinzugefügt. Deswegen Können sie das nicht entfernen.\\n\")\n",
    "\n",
    "    def warenkorb_anzeigen(self):\n",
    "        print(f\"Ihre Einkausliste enthält diese Produkte: \")\n",
    "        for element in self.einkaufsliste: \n",
    "            print(f\"{element}\\n\")\n"
   ]
  },
  {
   "cell_type": "code",
   "execution_count": 68,
   "id": "9d0168d8-b290-4345-a2bd-cea1a7360063",
   "metadata": {},
   "outputs": [],
   "source": [
    "class Kunde:\n",
    "    def __init__(self,name):\n",
    "        self.name = name\n",
    "        self.einkaufswagen = []\n",
    "\n",
    "    def produkt_kaufen(self,produkt):\n",
    "        self.einkaufswagen.append(produkt)\n",
    "        print(\"Das Produkt wurde erfolgreich gekauft. Hier sind die Informationen des Produkts: \")\n",
    "        print(f\"Name: {produkt.name}\\nPreis: {produkt.preis}€\\nMenge: {produkt.menge}\\n\")\n",
    "\n",
    "    def warenkorb_leeren(self,list):\n",
    "        for element in list.einkaufsliste:\n",
    "            list.einkaufsliste.clear()\n",
    "        print(\"Jetzt ist Ihre Einkaufswagen leer.\",\"\\n\")"
   ]
  },
  {
   "cell_type": "code",
   "execution_count": null,
   "id": "d09235a4-763d-4dea-82bc-b487e6272473",
   "metadata": {},
   "outputs": [],
   "source": [
    "product1 = Produkt(\"Tisch\",30.5,2)\n",
    "product2 = Produkt(\"Brot\",1,4)\n",
    "product3 = Produkt(\"Smartphone\",176.5,1)\n",
    "\n",
    "list = Einkaufswagen()\n",
    "list.produkt_hinzufügen(product1)\n",
    "list.produkt_hinzufügen(product3)\n",
    "list.produkt_entfernen(product2)\n",
    "list.warenkorb_anzeigen()"
   ]
  },
  {
   "cell_type": "code",
   "execution_count": null,
   "id": "94579c3c-e700-49fb-b873-3b864c66a574",
   "metadata": {},
   "outputs": [],
   "source": []
  },
  {
   "cell_type": "code",
   "execution_count": 71,
   "id": "2292bdd8-8ddb-4647-91df-9c8836c6dcfa",
   "metadata": {},
   "outputs": [],
   "source": [
    "class Produkt:\n",
    "    def __init__(self,name,preis=\"unknown\",menge=1):\n",
    "        self.name = name.lower().capitalize() # Hier wird jeder Name in Kleinbuchstaben und dann das erste buchstabe in Großbuchstabe geändert\n",
    "        self.preis = preis\n",
    "        self.menge = menge\n",
    "        \"\"\"\n",
    "        if preis == \"unknown\":\n",
    "            self.total = \"Kein Preis wurde gegeben\"\n",
    "        else:\n",
    "            self.total = preis * menge\n",
    "        \"\"\"\n",
    "        \n",
    "    def __str__(self):\n",
    "        if self.preis == \"unknown\":\n",
    "            return f\"Name: {self.name}\\nPreis: {self.preis}\\nMenge: {self.menge}\"\n",
    "        else: \n",
    "            return f\"Name: {self.name}\\nPreis: {self.preis}€\\nMenge: {self.menge}\"\n",
    "    "
   ]
  },
  {
   "cell_type": "code",
   "execution_count": 146,
   "id": "73907a7b-3765-4410-a078-e8debf5c46ff",
   "metadata": {},
   "outputs": [],
   "source": [
    "class Einkaufswagen:\n",
    "    def __init__(self):\n",
    "        self.einkaufsliste = []\n",
    "    \"\"\"\n",
    "    def produkt_hinzufügen(self,produkt):\n",
    "        self.einkaufsliste.append(produkt) #Hier wird das Produkt in der Einkaufswagen hinzugefügt\n",
    "        #print(\"Das Produkt wurde erfolgreich hinzugefügt. Hier sind die Informationen des Produkts: \")\n",
    "        #print(f\"Name: {produkt.name}\\nPreis: {produkt.preis}€\\nMenge: {produkt.menge}\\n\")\n",
    "    \"\"\"\n",
    "\n",
    "    def produkt_entfernen(self,*produkte):\n",
    "        for produkt in produkte:\n",
    "            if produkt in self.einkaufsliste:\n",
    "                self.einkaufsliste.append(produkt) #Hier wird das Produkt in der Einkaufswagen entfernt\n",
    "                print(f\"Das Produkt {produkt.name} wurde erfolgreich entfernt.\\n\")\n",
    "            else:\n",
    "                print(f\"Das Produkt {produkt.name} wurde nicht in dem Warenkorb hinzugefügt. Deswegen Können sie das nicht entfernen.\\n\")\n",
    "    \"\"\"\n",
    "    def warenkorb_anzeigen(self):\n",
    "        print(f\"Ihre Einkausliste enthält diese Produkte: \")\n",
    "        for element in self.einkaufsliste: \n",
    "            print(f\"{element}\\n\")\n",
    "    \"\"\""
   ]
  },
  {
   "cell_type": "code",
   "execution_count": 151,
   "id": "cd0b2ed8-a2e7-4efb-8954-d4aec23b7769",
   "metadata": {},
   "outputs": [],
   "source": [
    "class Kunde:\n",
    "    def __init__(self,name):\n",
    "        self.name = name.lower().capitalize()\n",
    "        self.einkaufswagen = Einkaufswagen()\n",
    "        print(f\"Willkommen bei uns Kunde \\\"{self.name}\\\".\")\n",
    "\n",
    "    def produkt_kaufen(self,*produkte):\n",
    "        for produkt in produkte:\n",
    "            self.einkaufswagen.einkaufsliste.append(produkt)\n",
    "            print(\"Das Produkt wurde erfolgreich gekauft. Hier sind die Informationen des Produkts: \")\n",
    "            print(f\"Name: {produkt.name}\\nPreis: {produkt.preis}€\\nMenge: {produkt.menge}\\n\")\n",
    "\n",
    "    def gesamtkosten(self):\n",
    "        kosten = 0\n",
    "        for produkt in self.einkaufswagen.einkaufsliste:\n",
    "            kosten += produkt.preis * produkt.menge\n",
    "        print(f\"Sie haben die folgenden Produkte gekauft: \")\n",
    "        for element in self.einkaufswagen.einkaufsliste: \n",
    "            print(f\"{element}\\n\")\n",
    "        print(f\"Insgesamt müssen Sie {kosten}€ bezahlen.\\n\")\n",
    "\n",
    "    def warenkorb_anzeigen(self):\n",
    "        if not self.einkaufswagen.einkaufsliste: #Hier wird überprüft ob der einkaufslite leer ist\n",
    "            print(\"Leider ist Ihrer Warenkorb leer.\\n\")\n",
    "        else:\n",
    "            print(f\"Ihre Warenkorb enthält diese Produkte: \")\n",
    "            for element in self.einkaufswagen.einkaufsliste: \n",
    "                print(f\"{element}\\n\")\n",
    "\n",
    "    def warenkorb_leeren(self):\n",
    "        self.einkaufswagen.einkaufsliste.clear()\n",
    "        print(\"Ihre Einkaufswagen wurde geleert.\",\"\\n\")"
   ]
  },
  {
   "cell_type": "code",
   "execution_count": null,
   "id": "9e1b67bb-eb6b-48f9-92df-a67dafcd0716",
   "metadata": {},
   "outputs": [
    {
     "ename": "",
     "evalue": "",
     "output_type": "error",
     "traceback": [
      "\u001b[1;31mLes cellules en cours d’exécution avec Python 3.10.5 64-bit nécessitent ipykernel package.\n",
      "\u001b[1;31mExécutez la commande suivante pour installer 'ipykernel' dans l’environnement Python. \n",
      "\u001b[1;31mCommande : 'c:/Users/amour/AppData/Local/Programs/Python/Python310/python.exe -m pip install ipykernel -U --user --force-reinstall'"
     ]
    }
   ],
   "source": [
    "#Beispiel der Nutzung des Systems\n",
    "#hier werden Produkte erstellt. Sie sollen in diesem Format angegeben werden: Produkt(\"name des produkts\",Einzelpreis,menge)\n",
    "product1 = Produkt(\"Tisch\",30.5,2)\n",
    "product2 = Produkt(\"Brot\",1,4)\n",
    "product3 = Produkt(\"Smartphone\",176.5,1)\n",
    "product4 = Produkt(\"Laptop\",450)\n",
    "product5 = Produkt(\"T-shirt\",23.99,2)\n",
    "\n",
    "#hier wird einen Kunden erstellt\n",
    "kunde1 = Kunde(\"freddy\")\n",
    "# produkt zum Warenkorb hinzufügen\n",
    "kunde1.produkt_kaufen(product1,product4)\n",
    "# Inhalt des Warenkorbs anzeigen\n",
    "kunde1.warenkorb_anzeigen()\n",
    "#Produkt aus dem Warenkorb entfernen\n",
    "kunde1.einkaufswagen.produkt_entfernen(product3,product5,product2)\n",
    "#Die Gesamtkosten des Kundes berechnen\n",
    "kunde1.gesamtkosten()\n",
    "\n",
    "kunde2 = Kunde(\"Brunel\")\n",
    "kunde2.produkt_kaufen(product3,product5)\n",
    "kunde2.gesamtkosten()"
   ]
  }
 ],
 "metadata": {
  "kernelspec": {
   "display_name": "Python 3.10.5 64-bit",
   "language": "python",
   "name": "python3"
  },
  "language_info": {
   "codemirror_mode": {
    "name": "ipython",
    "version": 3
   },
   "file_extension": ".py",
   "mimetype": "text/x-python",
   "name": "python",
   "nbconvert_exporter": "python",
   "pygments_lexer": "ipython3",
   "version": "3.10.5"
  },
  "vscode": {
   "interpreter": {
    "hash": "e83131cdee894a1693e10973def511483987200d9c4560dda4c21b52196eadb1"
   }
  }
 },
 "nbformat": 4,
 "nbformat_minor": 5
}
