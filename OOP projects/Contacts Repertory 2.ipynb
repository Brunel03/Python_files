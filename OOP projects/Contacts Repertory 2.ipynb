{
 "cells": [
  {
   "cell_type": "code",
   "execution_count": 2,
   "id": "cf0dac0d-df36-4720-9797-d95d5278e501",
   "metadata": {},
   "outputs": [],
   "source": [
    "#Code ohne User-input\n",
    "#Code, den ich geschrieben habe, um daten kapseln zu verstehen\n",
    "class Contacts():\n",
    "    def __init__(self):\n",
    "        self.__repertory = {}\n",
    "    \n",
    "    # Here we add the contact of a person \n",
    "    def add_contact(self,name,number = \"unknown\"):\n",
    "        if name.lower().capitalize() not in self.__repertory:\n",
    "            self.__repertory[name.lower().capitalize()] = number\n",
    "        else:\n",
    "            print(f\"He/She is already in the repertory\")\n",
    "\n",
    "    # Here we research the Telephone number of a person\n",
    "    def get(self,*names):\n",
    "        for name in names:\n",
    "            if name.lower().capitalize() in self.__repertory:\n",
    "                print(f\"{name.lower().capitalize()} is register in the Repertory. This is his/her Telephone number: {self.__repertory[name.lower().capitalize()]}\")\n",
    "            else:\n",
    "                print(f\"Sorry but {name.lower().capitalize()} isn't register in the Repertory.\")\n",
    "            \n",
    "    # Here we print all the contacts which are in the repertory\n",
    "    def get_all_contacts(self):\n",
    "        print(\"\\nThis are The Contacts that are register here:\")\n",
    "        for i,(name,self.__repertory[name]) in enumerate(sorted(self.__repertory.items(), key = lambda x:x[1]),1):\n",
    "            print(f\"{i}- {name}: {self.__repertory[name]}\")\n",
    "\n",
    "    def __str__(self):\n",
    "        return f\"Name: {name}\\nNumber: {self.contact[name]}\"\n"
   ]
  },
  {
   "cell_type": "code",
   "execution_count": 7,
   "id": "f79ff276-5b4a-4116-b3ba-f7f49e5d8ae8",
   "metadata": {},
   "outputs": [
    {
     "name": "stdout",
     "output_type": "stream",
     "text": [
      "<class '__main__.Contacts'>\n",
      "\n",
      "This are The Contacts that are register here:\n",
      "1- Brandon: +237 620963358\n",
      "2- Brunel: +237 678434911\n"
     ]
    }
   ],
   "source": [
    "contact = Contacts()\n",
    "print(type(contact))\n",
    "contact.add_contact(\"brunel\",\"+237 678434911\")\n",
    "contact.add_contact(\"brandon\",\"+237 620963358\")\n",
    "\n",
    "#contact.get(\"brUNeL\",\"lincoln\",\"StAcY\",\"brandon\")\n",
    "contact.get_all_contacts()\n",
    "\n",
    "#print(contact)"
   ]
  }
 ],
 "metadata": {
  "kernelspec": {
   "display_name": "Python 3 (ipykernel)",
   "language": "python",
   "name": "python3"
  },
  "language_info": {
   "codemirror_mode": {
    "name": "ipython",
    "version": 3
   },
   "file_extension": ".py",
   "mimetype": "text/x-python",
   "name": "python",
   "nbconvert_exporter": "python",
   "pygments_lexer": "ipython3",
   "version": "3.11.7"
  }
 },
 "nbformat": 4,
 "nbformat_minor": 5
}
