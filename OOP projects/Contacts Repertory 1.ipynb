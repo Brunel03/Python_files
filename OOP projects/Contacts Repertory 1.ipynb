{
 "cells": [
  {
   "cell_type": "code",
   "execution_count": 2,
   "id": "c4813c97-51d5-49e0-b28b-e5006bd1a9e3",
   "metadata": {},
   "outputs": [],
   "source": [
    "# Code mit User-input\n",
    "class Contacts():\n",
    "    def __init__(self):\n",
    "        self.contact = {}\n",
    "\n",
    "    def __str__(self):\n",
    "        return f\"Name: {name}\\nNumber: {self.contact[name]}\"\n",
    "        \n",
    "\n",
    "    def add_contact(self,n = 1):\n",
    "        for i in range(0,n):\n",
    "            name = input(\"enter the name of the Person: \")\n",
    "            number = int(input(\"Enter the Person's number: \"))\n",
    "            self.contact[name.lower().capitalize()] = number\n",
    "            print(\"\\n\")\n",
    "\n",
    "    def get(self,name):\n",
    "        if name.lower().capitalize() in self.contact:\n",
    "            print(f\"{name.lower().capitalize()}: {self.contact[name.lower().capitalize()]}\")\n",
    "        else:\n",
    "            print(f\"{name.lower().capitalize()} isn't register here\")\n",
    "\n",
    "    def contacts(self):\n",
    "        print(\"This are The Contacts that are register here:\")\n",
    "        for name,self.contact[name] in self.contact.items():\n",
    "            print(f\"{name}: {self.contact[name]}\")\n",
    "        print(\"\\n\")\n"
   ]
  },
  {
   "cell_type": "code",
   "execution_count": 1,
   "id": "8322021f-6353-47a2-a039-7e0f68578f84",
   "metadata": {},
   "outputs": [
    {
     "ename": "NameError",
     "evalue": "name 'Contacts' is not defined",
     "output_type": "error",
     "traceback": [
      "\u001b[1;31m---------------------------------------------------------------------------\u001b[0m",
      "\u001b[1;31mNameError\u001b[0m                                 Traceback (most recent call last)",
      "Cell \u001b[1;32mIn[1], line 1\u001b[0m\n\u001b[1;32m----> 1\u001b[0m contact_1 \u001b[38;5;241m=\u001b[39m  Contacts()\n\u001b[0;32m      2\u001b[0m contact_1\u001b[38;5;241m.\u001b[39madd_contact()\n\u001b[0;32m      3\u001b[0m contact_1\u001b[38;5;241m.\u001b[39mcontacts()\n",
      "\u001b[1;31mNameError\u001b[0m: name 'Contacts' is not defined"
     ]
    }
   ],
   "source": [
    "contact_1 =  Contacts()\n",
    "contact_1.add_contact()\n",
    "contact_1.contacts()\n",
    "contact_1.get(\"randolph\")"
   ]
  }
 ],
 "metadata": {
  "kernelspec": {
   "display_name": "Python 3 (ipykernel)",
   "language": "python",
   "name": "python3"
  },
  "language_info": {
   "codemirror_mode": {
    "name": "ipython",
    "version": 3
   },
   "file_extension": ".py",
   "mimetype": "text/x-python",
   "name": "python",
   "nbconvert_exporter": "python",
   "pygments_lexer": "ipython3",
   "version": "3.11.7"
  }
 },
 "nbformat": 4,
 "nbformat_minor": 5
}
