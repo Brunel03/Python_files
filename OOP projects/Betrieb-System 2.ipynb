{
 "cells": [
  {
   "cell_type": "code",
   "execution_count": 4,
   "id": "61d8172d-6133-485d-8a9c-4023adea3823",
   "metadata": {},
   "outputs": [],
   "source": [
    "class Mitarbeiter:\n",
    "    def __init__(self,name,gehalt,überstunden = \"unknown\"):\n",
    "        self.name = name\n",
    "        self.gehalt = gehalt\n",
    "        self.überstunden = überstunden\n",
    "\n",
    "    def __iter__(self):\n",
    "        yield self.name\n",
    "        yield self.gehalt \n",
    "        yield self.überstunden\n",
    "\n",
    "    def __str__(self):\n",
    "        if self.gehalt is unknown:\n",
    "            return f\"Name: {self.name}\\nGehalt: {self.gehalt}\\nÜberstunden: {self.überstunden}\\n\"\n",
    "        else:\n",
    "            return f\"Name: {self.name}\\nGehalt: {self.gehalt}€\\nÜberstunden: {self.überstunden}\\n\""
   ]
  },
  {
   "cell_type": "code",
   "execution_count": 13,
   "id": "d2bc3ff9-575b-47f0-afe1-65b7962337f6",
   "metadata": {},
   "outputs": [],
   "source": [
    "from tabulate import tabulate\n",
    "class Abteilung:\n",
    "    def __init__(self,name):\n",
    "        self.name = name\n",
    "        self.list = []\n",
    "\n",
    "    def mitarbeiter_hinzufügen(self,mitarbeiter):\n",
    "        if mitarbeiter not in self.list:\n",
    "            self.list.append(mitarbeiter)\n",
    "            print(\"Neuer Mitarbeiter in der Abteilung.\")\n",
    "            print(f\"Name: {mitarbeiter.name}\\nGehalt: {mitarbeiter.gehalt}€\\nÜberstunden: {mitarbeiter.überstunden}\\n\")\n",
    "        else:\n",
    "            print(f\"\\\"{mitarbeiter.name}\\\" ist schon in dieser Abteilung.\\n\")\n",
    "\n",
    "    def mitarbeiter_entfernen(self,mitarbeiter):\n",
    "        if mitarbeiter in self.list:\n",
    "            self.list.remove(mitarbeiter)\n",
    "            print(f\"\\\"{mitarbeiter.name}\\\" wurde aus dieser Abteilung entfernt.\\n\")\n",
    "        else:\n",
    "            print(f\"\\\"{mitarbeiter.name}\\\" arbeitet nicht in dieser Abteilung.\\n\")\n",
    "\n",
    "    def get_alle_mitarbeiter(self):\n",
    "        print(tabulate(self.list, headers = [\"NAMEN\",\"GEHÄLTER\",\"ÜBERSTUNDEN\"], tablefmt = \"grid\"))\n",
    "\n",
    "    def kosten_berechnen(self):\n",
    "        total = 0\n",
    "        for mitarbeiter in self.list:\n",
    "            total += mitarbeiter.gehalt\n",
    "        print(f\"Für dieser Abteilung sollen Sie {total}€ pro Monat ausgeben\")"
   ]
  },
  {
   "cell_type": "code",
   "execution_count": 6,
   "id": "0ccc422a-e9fc-4dad-8391-cc69458a469d",
   "metadata": {},
   "outputs": [],
   "source": [
    "class Firma:\n",
    "    def __init__(self,name):\n",
    "        self.name = name\n",
    "        self.abteilungsliste = []\n",
    "        print(f\"Firma \\\"{self.name}\\\" erstellt.\\n\")\n",
    "\n",
    "    def abteilung_erstellen(self,abteilung):\n",
    "        if abteilung not in self.abteilungsliste:\n",
    "            self.abteilungsliste.append(abteilung)\n",
    "            print(f\"{abteilung.name} Abteilung hinzugefügt.\\n\")\n",
    "        else:\n",
    "            print(f\"{abteilung.name} Abteilung schon in der Firma.\\n\")\n",
    "\n",
    "    def abteilung_entfernen(self,abteilung):\n",
    "        if abteilung in self.abteilungsliste:\n",
    "            self.abteilungsliste.remove(abteilung)\n",
    "            print(f\"{abteilung.name} Abteilung entfernt.\\n\")\n",
    "        else:\n",
    "            print(f\"{abteilung.name} Abteilung ist nicht in dieser Firma. Infolgedessen können wir sie nicht entfernen.\\n\")"
   ]
  },
  {
   "cell_type": "code",
   "execution_count": null,
   "id": "d265bed2-30de-48dd-bf30-6104418967a8",
   "metadata": {},
   "outputs": [],
   "source": []
  },
  {
   "cell_type": "code",
   "execution_count": 9,
   "id": "6a7dd68a-8d8c-4553-8a6a-c8e7cc4b74e8",
   "metadata": {},
   "outputs": [],
   "source": [
    "class Mitarbeiter:\n",
    "    def __init__(self,name,gehalt):\n",
    "        self.name = name\n",
    "        self.gehalt = gehalt\n",
    "\n",
    "    def __iter__(self):  # Mit dieser Methode wird jede Eigenschaft iterierbar gemacht\n",
    "        yield self.name\n",
    "        yield self.gehalt\n",
    "\n",
    "    def __str__(self):\n",
    "        return f\"Name: {self.name}\\nGehalt: {self.gehalt}€\\n\""
   ]
  },
  {
   "cell_type": "code",
   "execution_count": 10,
   "id": "61e5ec94-1a6e-4d70-b74b-e5d4d5dceb88",
   "metadata": {},
   "outputs": [],
   "source": [
    "class Abteilung:\n",
    "    def __init__(self,name):\n",
    "        self.name = name\n",
    "        self.list = []\n"
   ]
  },
  {
   "cell_type": "code",
   "execution_count": 11,
   "id": "4ddafe13-8131-4436-899e-0e5f6ab7a135",
   "metadata": {},
   "outputs": [],
   "source": [
    "from tabulate import tabulate\n",
    "class Firma:\n",
    "    def __init__(self,name):\n",
    "        self.name = name\n",
    "        self.abteilungsliste = []\n",
    "        print(f\"Firma \\\"{self.name}\\\" gegründet.\\n\")\n",
    "\n",
    "    def abteilung_erstellen(self, name): \n",
    "        if name not in self.abteilungsliste:\n",
    "            neue_abteilung = Abteilung(name) # Hier erstellt man eine neue Abteilung,indem wir die Klasse Abteilung benutzt,die man oben erstellt hat\n",
    "            self.abteilungsliste.append(neue_abteilung)\n",
    "            print(f\"{name} Abteilung erstellt.\\n\")\n",
    "        else:\n",
    "            print(f\"{name} Abteilung schon in der Firma.\\n\")\n",
    "        return neue_abteilung #Dieser Befehl ist wichtig,weil es gibt das neu erstellte Objekt Abteilung zurück und man kann die Methode der Klasse benutzen (Abteilung)\n",
    "        \n",
    "    def abteilung_löschen(self, abteilung):\n",
    "        if abteilung in self.abteilungsliste:\n",
    "            self.abteilungsliste.remove(abteilung)\n",
    "            print(f\"{abteilung.name} Abteilung entfernt.\\n\")\n",
    "        else:\n",
    "            print(f\"{abteilung.name} Abteilung ist nicht in dieser Firma. Infolgedessen können wir sie nicht entfernen.\\n\")\n",
    "\n",
    "    def mitarbeiter_hinzufügen(self, abteilung, *mitarbeitern): # Hier \n",
    "        for mitarbeiter in mitarbeitern: \n",
    "            if abteilung in self.abteilungsliste:\n",
    "                abteilung.list.append(mitarbeiter)\n",
    "                print(f\"Neuer Mitarbeiter erfolgreich hinzugefügt. Hier sind seine Informationen:\")\n",
    "                print(mitarbeiter)\n",
    "                \n",
    "            else:\n",
    "                print(f\"Die gegebene Abteilung existiert nicht in dieser Firma.\\n \")\n",
    "\n",
    "    def mitarbeiter_entlassen(self, abteilung, *mitarbeitern): # Hier entlässt man ein Mitarbeiter von der Firma.\n",
    "        for mitarbeiter in mitarbeitern:\n",
    "            if abteilung in self.abteilungsliste:\n",
    "                abteilung.list.remove(mitarbeiter)\n",
    "            else:\n",
    "                print(f\"Die gegebene Abteilung existiert nicht in dieser Firma.\\n \")\n",
    "\n",
    "    def abteilungskosten(self, abteilung): # Hier wird die gesamte Kosten der Abteilung berechnet d.ß man berechnet das gesamte Summe von Geld,um die arbeiter zu bezahlen.\n",
    "        total = 0\n",
    "        for mitarbeiter in abteilung.list:\n",
    "            total += mitarbeiter.gehalt\n",
    "        print(f\"Die \\\"{abteilung.name}\\\" gibt pro Monat {total}€ aus.\\n\")\n",
    "\n",
    "    def get_alle_mitarbeiter(self,abteilung): # Hier wird eine liste von allen Mitarbeitern einer Abteilung in einer Tabelle angezeigt\n",
    "        print(f\"Liste von allen Mitarbeitern der \\\"{abteilung.name}\\\" Abteilung:\")\n",
    "        print(tabulate(abteilung.list, headers = [\"NAMEN\",\"GEHÄLTER\"], tablefmt = \"grid\"))"
   ]
  },
  {
   "cell_type": "markdown",
   "id": "353cc3e9-1b82-4b24-826b-d660d480aa15",
   "metadata": {},
   "source": [
    "\n",
    "##                                                KLEINES TUTORIAL DES BETRIEB-SYSTEMS\n",
    "###                                Willkommen bei dem Tutorial, um bessser das Betrieb_system zu benutzen.\n",
    "\n",
    "Mit diesem Betriebssystem Haben Sie die folgenden Möglichkeiten:\n",
    "-  1- eine Abteilung erstellen\n",
    "-  2- eine Abteilung löschen                            \n",
    "-  3- ein Mitarbeiter hinzufügen\n",
    "-  4- ein Mitarbeiter entlassen\n",
    "-  5- Die Kosten einer Abteilung berechnen\n",
    "-  6- alle Mitarbeiter einer Abteilung anzeigen                            \n"
   ]
  },
  {
   "cell_type": "code",
   "execution_count": 7,
   "id": "41b32285-581a-4d0d-9d22-a6b32352f03b",
   "metadata": {},
   "outputs": [
    {
     "name": "stdout",
     "output_type": "stream",
     "text": [
      "Firma \"MTN CAMEROUN\" gegründet.\n",
      "\n",
      "marketing Abteilung erstellt.\n",
      "\n"
     ]
    },
    {
     "data": {
      "text/plain": [
       "'\\nabteilung_Handel = MTN.abteilung_erstellen(\"Handel\")\\nabteilung_IT = MTN.abteilung_erstellen(\"IT\")\\nabteilung_Finanz = MTN.abteilung_erstellen(\"Finanz\")\\nabteilung_Technik = MTN.abteilung_erstellen(\"Technik\")\\n\\nMTN.mitarbeiter_hinzufügen(abteilung_Marketing, arbeiter_1,arbeiter_4)\\n\\nMTN.abteilungskosten(abteilung_Marketing)\\n\\nMTN.get_alle_mitarbeiter(abteilung_Marketing)\\n'"
      ]
     },
     "execution_count": 7,
     "metadata": {},
     "output_type": "execute_result"
    }
   ],
   "source": [
    "arbeiter_1 = Mitarbeiter(\"Adrian Johnson\",3000)\n",
    "arbeiter_2 = Mitarbeiter(\"Bruce Yang\",3200)\n",
    "arbeiter_3 = Mitarbeiter(\"Constantin Schröder\",3500)\n",
    "arbeiter_4 = Mitarbeiter(\"Davon Parker\",4000)\n",
    "arbeiter_5 = Mitarbeiter(\"Evans Watterson\",2700)\n",
    "arbeiter_6 = Mitarbeiter(\"Fred Jones\",4200)\n",
    "\n",
    "MTN = Firma(\"MTN CAMEROUN\")\n",
    "\n",
    "abteilung_Marketing = MTN.abteilung_erstellen(\"marketing\")\n",
    "\"\"\"\n",
    "abteilung_Handel = MTN.abteilung_erstellen(\"Handel\")\n",
    "abteilung_IT = MTN.abteilung_erstellen(\"IT\")\n",
    "abteilung_Finanz = MTN.abteilung_erstellen(\"Finanz\")\n",
    "abteilung_Technik = MTN.abteilung_erstellen(\"Technik\")\n",
    "\n",
    "MTN.mitarbeiter_hinzufügen(abteilung_Marketing, arbeiter_1,arbeiter_4)\n",
    "\n",
    "MTN.abteilungskosten(abteilung_Marketing)\n",
    "\n",
    "MTN.get_alle_mitarbeiter(abteilung_Marketing)\n",
    "\"\"\""
   ]
  },
  {
   "cell_type": "code",
   "execution_count": null,
   "id": "61650e97-983e-4192-b82f-2f71185b7500",
   "metadata": {},
   "outputs": [],
   "source": []
  }
 ],
 "metadata": {
  "kernelspec": {
   "display_name": "Python 3.10.5 64-bit",
   "language": "python",
   "name": "python3"
  },
  "language_info": {
   "codemirror_mode": {
    "name": "ipython",
    "version": 3
   },
   "file_extension": ".py",
   "mimetype": "text/x-python",
   "name": "python",
   "nbconvert_exporter": "python",
   "pygments_lexer": "ipython3",
   "version": "3.10.5"
  },
  "vscode": {
   "interpreter": {
    "hash": "e83131cdee894a1693e10973def511483987200d9c4560dda4c21b52196eadb1"
   }
  }
 },
 "nbformat": 4,
 "nbformat_minor": 5
}
