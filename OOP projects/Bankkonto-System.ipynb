{
 "cells": [
  {
   "cell_type": "code",
   "execution_count": 1,
   "id": "b24f0dbe-cb1d-4560-8092-023fc484deb1",
   "metadata": {},
   "outputs": [],
   "source": [
    "# Bankkonto-System\n",
    "class Konto():\n",
    "    \n",
    "    def __init__(self,kontoinhaber,kontonummer,saldo=0):\n",
    "        self.__kontoinhaber = kontoinhaber\n",
    "        self.__kontonummer = kontonummer\n",
    "        self.__saldo = saldo\n",
    "        self.__überziehungslimit = 5000000\n",
    "\n",
    "    def einzahlen(self,n):\n",
    "        print(f\"Sie möchten {n}€ in Ihrem Konto hinzüfugen\")\n",
    "        self.__saldo += n\n",
    "        print(f\"Jetzt haben Sie {self.__saldo}€ in Ihrem Konto\\n\")\n",
    "\n",
    "    def auszahlen(self,n):\n",
    "        print(f\"Sie möchten {n}€ in Ihrem Konto zurückziehen\")\n",
    "        if self.__saldo < n:\n",
    "            print(\"Leider haben Sie wenig Geld, um diese Transaktion durchzuführen.\\n\")\n",
    "        else:\n",
    "            self.__saldo = self.__saldo - n\n",
    "            print(f\"Nunmehr haben Sie {self.__saldo}€ in Ihrem Konto\\n\")\n",
    "    \"\"\"\n",
    "    def überprüfen(self):\n",
    "        if self.__saldo < self.__überziehungslimit :\n",
    "            print(\"Ok\")\n",
    "        else:\n",
    "            print(\"Sie haben Ihre Überziehungslimit erreicht.\")\n",
    "    \"\"\"\n",
    "    \n",
    "    def get_saldo(self):\n",
    "        print(f\"Derzeit haben Sie {self.__saldo}€ in Ihrem Konto. \\n\")\n",
    "\n",
    "    def info(self):\n",
    "        print(f\" Kontoinhaber: Herr/Frau {self.__kontoinhaber}\\n Kontonummer: {self.__kontonummer}\\n Saldo: {self.__saldo}€\\n\")\n",
    "                        "
   ]
  },
  {
   "cell_type": "code",
   "execution_count": 2,
   "id": "7d2cca9a-58ba-4e33-aebf-61694fb84d07",
   "metadata": {},
   "outputs": [],
   "source": [
    "class Bank():\n",
    "    def __init__(self):\n",
    "        self.konto_liste = [] \n",
    "\n",
    "    def konto_erstellen(self,kontoinhaber,kontonummer,saldo=0):\n",
    "        konto = Konto(kontoinhaber,kontonummer,saldo=0)\n",
    "        self.konto_liste.append(konto)\n",
    "        print(f\"Das Konto erfolgreich erstellt. Hier sind die Informationen:\")\n",
    "        print(f\"Kontoinhaber: {kontoinhaber} \\nKontonummer: {kontonummer} \\nSaldo: {saldo}€\\n\")\n",
    "        return konto\n",
    "\n",
    "    def konto_löschen(self,kontonummer):\n",
    "        for konto in self.konto_liste:\n",
    "            if konto.kontonummer == kontonummer:\n",
    "                self.konto_liste.remove(konto)\n",
    "                return f\"Konto n° {konto.kontonummer} gelöscht. Schade, dass Sie \""
   ]
  },
  {
   "cell_type": "code",
   "execution_count": 3,
   "id": "97b96471-1626-409f-8935-ef8d2a32a51f",
   "metadata": {},
   "outputs": [
    {
     "name": "stdout",
     "output_type": "stream",
     "text": [
      "Das Konto erfolgreich erstellt. Hier sind die Informationen:\n",
      "Kontoinhaber: Bree \n",
      "Kontonummer: ER-000392417 \n",
      "Saldo: 8300€\n",
      "\n",
      "Sie möchten 2500€ in Ihrem Konto zurückziehen\n",
      "Leider haben Sie wenig Geld, um diese Transaktion durchzuführen.\n",
      "\n",
      " Kontoinhaber: Herr/Frau Bree\n",
      " Kontonummer: ER-000392417\n",
      " Saldo: 0€\n",
      "\n"
     ]
    }
   ],
   "source": [
    "k = Bank()\n",
    "konto = k.konto_erstellen(\"Bree\",\"ER-000392417\",8300)\n",
    "konto.auszahlen(2500)\n",
    "konto.info()\n",
    "\n",
    "#k.konto_erstellen(\"Bree\",\"ER-000392417\",8300)\n",
    "#k.konto_liste[0].auszahlen(2500)"
   ]
  }
 ],
 "metadata": {
  "kernelspec": {
   "display_name": "Python 3 (ipykernel)",
   "language": "python",
   "name": "python3"
  },
  "language_info": {
   "codemirror_mode": {
    "name": "ipython",
    "version": 3
   },
   "file_extension": ".py",
   "mimetype": "text/x-python",
   "name": "python",
   "nbconvert_exporter": "python",
   "pygments_lexer": "ipython3",
   "version": "3.11.7"
  }
 },
 "nbformat": 4,
 "nbformat_minor": 5
}
