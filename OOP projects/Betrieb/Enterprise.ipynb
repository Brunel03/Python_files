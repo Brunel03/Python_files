{
 "cells": [
  {
   "cell_type": "code",
   "execution_count": null,
   "id": "1db3e4de-d021-4cd7-9952-f9f76923a67d",
   "metadata": {},
   "outputs": [
    {
     "ename": "",
     "evalue": "",
     "output_type": "error",
     "traceback": [
      "\u001b[1;31mLes cellules en cours d’exécution avec Python 3.10.5 64-bit nécessitent ipykernel package.\n",
      "\u001b[1;31mExécutez la commande suivante pour installer 'ipykernel' dans l’environnement Python. \n",
      "\u001b[1;31mCommande : 'c:/Users/amour/AppData/Local/Programs/Python/Python310/python.exe -m pip install ipykernel -U --user --force-reinstall'"
     ]
    }
   ],
   "source": [
    "from package import Betriebs\n",
    "\n",
    "company = Betriebs.Firma(\"Global Entertainment\")\n",
    "\n",
    "Handelsabteilung = Betriebs.Abteilung(\"Handel\")\n",
    "Marketingsabteilung = Betriebs.Abteilung(\"Marketing\")\n",
    "\n",
    "Leandra = Betriebs.Mitarbeiter(\"Kammogne Leandra\",4500)\n",
    "\n",
    "company.abteilung_erstellen(Handelsabteilung)\n",
    "Handelsabteilung.mitarbeiter_hinzufügen(Leandra)"
   ]
  }
 ],
 "metadata": {
  "kernelspec": {
   "display_name": "Python 3.10.5 64-bit",
   "language": "python",
   "name": "python3"
  },
  "language_info": {
   "codemirror_mode": {
    "name": "ipython",
    "version": 3
   },
   "file_extension": ".py",
   "mimetype": "text/x-python",
   "name": "python",
   "nbconvert_exporter": "python",
   "pygments_lexer": "ipython3",
   "version": "3.10.5"
  },
  "vscode": {
   "interpreter": {
    "hash": "e83131cdee894a1693e10973def511483987200d9c4560dda4c21b52196eadb1"
   }
  }
 },
 "nbformat": 4,
 "nbformat_minor": 5
}
