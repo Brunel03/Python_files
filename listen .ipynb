{
 "cells": [
  {
   "cell_type": "code",
   "execution_count": 10,
   "id": "b4acc414-c36d-4053-8477-e61263353730",
   "metadata": {},
   "outputs": [
    {
     "name": "stdout",
     "output_type": "stream",
     "text": [
      "['pineapple', 'apple', 'orange', 'coconut', 'strawberry', 'blueberry', 'watermelon']\n",
      "orange\n",
      "['pineapple', 'apple', 'orange', 'coconut', 'strawberry', 'blueberry', 'watermelon', 'pawpaw']\n",
      "8\n",
      "pineapple & coconut\n"
     ]
    }
   ],
   "source": [
    "#Ab hier geht es um Listen\n",
    "Fruits = [\"pineapple\",\"apple\",\"orange\",\"coconut\",\"strawberry\",\"blueberry\",\"watermelon\"]\n",
    "print(Fruits) #Hier will ich die Liste anzeigen\n",
    "\n",
    "print(Fruits[2]) #Hier will ich auf ein Element zugreifen besonders das Element 3 (Jedes Element in einer Liste beginnt mit der Position 0)\n",
    "\n",
    "Fruits.append(\"pawpaw\") #Hier füge ich ein Element hinzu\n",
    "\n",
    "print(Fruits) #Hier will ich die Liste mit dem neuen Element anzeigen\n",
    "\n",
    "print(len(Fruits)) #Hier zeige ich die Länge der Liste das heißt ich möchte wissen, wie viel Elemente die Liste enthält.\n",
    "\n",
    "print(Fruits[0]+' & '+Fruits[3])\n"
   ]
  },
  {
   "cell_type": "code",
   "execution_count": null,
   "id": "142afca9-c305-49ef-bee0-e62a50dd7976",
   "metadata": {},
   "outputs": [],
   "source": [
    "# Hier ist die Erklärung der pop()-Funktion\n",
    "#Man benutzt die pop()-Funktion,um das letzte Element einer Liste zu entfernen\n",
    "Fruits = [\"pineapple\",\"apple\",\"orange\",\"coconut\",\"strawberry\",\"blueberry\",\"watermelon\"]\n",
    "print(Fruits)\n",
    "Fruits.pop()\n",
    "print(Fruits)"
   ]
  },
  {
   "cell_type": "code",
   "execution_count": 4,
   "id": "0afa8860-ebd7-4969-bb53-5538d8feb577",
   "metadata": {},
   "outputs": [
    {
     "name": "stdout",
     "output_type": "stream",
     "text": [
      "apple\n"
     ]
    }
   ],
   "source": [
    "#Man kann die pop()-Funktion nicht nur als eine Funktion benutzen, sondern auch als ein Wert einer Variable\n",
    "Fruits = [\"pineapple\",\"apple\",\"orange\",\"coconut\",\"strawberry\",\"blueberry\",\"watermelon\"]\n",
    "p = Fruits.pop()\n",
    "print(p)"
   ]
  },
  {
   "cell_type": "code",
   "execution_count": 3,
   "id": "2fc238c7-f557-4f2e-bdfd-cd5438dcc964",
   "metadata": {},
   "outputs": [
    {
     "name": "stdout",
     "output_type": "stream",
     "text": [
      "watermelon\n"
     ]
    }
   ],
   "source": [
    "Fruits = [\"pineapple\",\"apple\",\"orange\",\"coconut\",\"strawberry\",\"blueberry\",\"watermelon\"]\n",
    "print(Fruits.pop())#diese Methode passt auch"
   ]
  },
  {
   "cell_type": "code",
   "execution_count": 9,
   "id": "c81d1c6a-c561-440b-a0c9-84c6bf9ea9de",
   "metadata": {},
   "outputs": [
    {
     "name": "stdout",
     "output_type": "stream",
     "text": [
      "Like Fruits we have: pineapple,apple,orange,coconut,strawberry,blueberry,watermelon\n"
     ]
    }
   ],
   "source": [
    "Fruits = [\"pineapple\",\"apple\",\"orange\",\"coconut\",\"strawberry\",\"blueberry\",\"watermelon\"]\n",
    "print(\"Like Fruits we have: \"+\",\".join(Fruits))"
   ]
  },
  {
   "cell_type": "code",
   "execution_count": 46,
   "id": "23c05e0c-7ee2-407b-818a-c339e7825ada",
   "metadata": {},
   "outputs": [
    {
     "name": "stdout",
     "output_type": "stream",
     "text": [
      "['Max', ' Monika', ' Erik', ' Franzeska']\n"
     ]
    }
   ],
   "source": [
    "#string => liste\n",
    "i = \"Max, Monika, Erik, Franzeska\"\n",
    "print(i.split(\",\"))"
   ]
  },
  {
   "cell_type": "code",
   "execution_count": 52,
   "id": "cca21b8a-1e4d-4dc2-b8b4-e69acc2a5ff6",
   "metadata": {},
   "outputs": [
    {
     "name": "stdout",
     "output_type": "stream",
     "text": [
      "pineapple;apple;orange;coconut;strawberry;blueberry;watermelon\n"
     ]
    }
   ],
   "source": [
    "#liste => string\n",
    "Fruits = [\"pineapple\",\"apple\",\"orange\",\"coconut\",\"strawberry\",\"blueberry\",\"watermelon\"]\n",
    "print(\";\".join(Fruits))"
   ]
  },
  {
   "cell_type": "code",
   "execution_count": 1,
   "id": "16908d33-c556-4ed7-983b-b8fac80ccab7",
   "metadata": {},
   "outputs": [
    {
     "name": "stdin",
     "output_type": "stream",
     "text": [
      "How many sublists should be created?  2\n",
      "How many cities would be added in the sublists?  1\n",
      "Gib der Name des Landes:  cameroun\n",
      "Gib das Element 1 ein:  Douala\n"
     ]
    },
    {
     "name": "stdout",
     "output_type": "stream",
     "text": [
      "\n",
      "\n"
     ]
    },
    {
     "name": "stdin",
     "output_type": "stream",
     "text": [
      "Gib der Name des Landes:  chine\n",
      "Gib das Element 1 ein:  Beijing\n"
     ]
    },
    {
     "name": "stdout",
     "output_type": "stream",
     "text": [
      "\n",
      "\n",
      "[('cameroun', ['Douala']), ('chine', ['Beijing'])]\n",
      "1- cameroun: ['Douala']\n",
      "2- chine: ['Beijing']\n",
      "2\n"
     ]
    }
   ],
   "source": [
    "# user input in nested list\n",
    "primary = []\n",
    "n_1 = int(input(\"How many sublists should be created? \"))\n",
    "n_2 = int(input(\"How many cities would be added in the sublists? \")) \n",
    "\n",
    "for i in range(n_1):\n",
    "    country = input(\"Gib der Name des Landes: \")\n",
    "    cities = []\n",
    "    for j in range(n_2):\n",
    "        s = input(f\"Gib das Element {j+1} ein: \")\n",
    "        cities.append(s)\n",
    "        cities.sort()\n",
    "    primary.append((country,cities))    #Cette ligne permet que les pays ainsi que les villes soient groupé dans un tuple. Ainsi lors du triage chacun soient toujours groupés.\n",
    "    print(\"\\n\")\n",
    "    #primary.sort(key= lambda x:x[0]) \n",
    "\n",
    "print(primary)\n",
    "\n",
    "for i, (country,element) in enumerate(primary,1):\n",
    "   print(f\"{i}- {country}: {element}\")\n",
    "print(len(primary))\n",
    "#primary = []\n",
    "#n_1 = int(input(\"How many sublists should be created? \"))\n",
    "#n_2 = int(input(\"How many cities would be added in the sublists? \")) \n",
    "\n",
    "#for i in range(n_1):\n",
    "#    country = input(\"Gib der Name des Landes: \")\n",
    "#    cities = []\n",
    "#    for j in range(n_2):\n",
    "#        s = input(f\"Gib das Element {j+1} ein: \")\n",
    "#        cities.append(s)\n",
    "#        cities.sort()\n",
    "#        primary.append(country)\n",
    "#        primary.append(cities)\n",
    "#    primary.sort(key= lambda x:x[0])\n",
    "        \n",
    "#for i in range(len(primary)):\n",
    "#    if i % 2 != 0:\n",
    "#        print(f\"{primary[i-1]}: {','.join(primary[i])}\")\n"
   ]
  },
  {
   "cell_type": "code",
   "execution_count": 16,
   "id": "1886f44a-42ad-499f-bcac-171935e8b1f1",
   "metadata": {},
   "outputs": [
    {
     "name": "stdout",
     "output_type": "stream",
     "text": [
      "1- Apple\n",
      "2- Blueberry\n",
      "3- Coconut\n",
      "4- Orange\n",
      "5- Pineapple\n",
      "6- Strawberry\n",
      "7- Watermelon\n",
      "\n",
      "\n",
      "1- Apple\n",
      "2- Blueberry\n",
      "3- Coconut\n",
      "4- Orange\n",
      "5- Pineapple\n",
      "6- Strawberry\n",
      "7- Watermelon\n",
      "['__add__', '__class__', '__class_getitem__', '__contains__', '__delattr__', '__delitem__', '__dir__', '__doc__', '__eq__', '__format__', '__ge__', '__getattribute__', '__getitem__', '__getstate__', '__gt__', '__hash__', '__iadd__', '__imul__', '__init__', '__init_subclass__', '__iter__', '__le__', '__len__', '__lt__', '__mul__', '__ne__', '__new__', '__reduce__', '__reduce_ex__', '__repr__', '__reversed__', '__rmul__', '__setattr__', '__setitem__', '__sizeof__', '__str__', '__subclasshook__', 'append', 'clear', 'copy', 'count', 'extend', 'index', 'insert', 'pop', 'remove', 'reverse', 'sort']\n"
     ]
    }
   ],
   "source": [
    "# Um elemente einer Liste mit einer Nummerierung anzuzeigen, benutzt man enumerate() wie folgendermaße:\n",
    "Fruits = [\"pineapple\",\"apple\",\"orange\",\"coconut\",\"strawberry\",\"blueberry\",\"watermelon\"]\n",
    "Fruits.sort()\n",
    "for i,element in enumerate(Fruits):\n",
    "    print(f\"{i+1}- {element.capitalize()}\")\n",
    "print(\"\\n\")\n",
    "\n",
    "#hier ist eine andere Möglichkeit aber ohne enumerate()\n",
    "for i in range(len(Fruits)):\n",
    "    print(f\"{i+1}- {Fruits[i].capitalize()}\")\n"
   ]
  },
  {
   "cell_type": "code",
   "execution_count": 16,
   "id": "0afc0b9d-f396-4be8-b400-77ef5ffea534",
   "metadata": {},
   "outputs": [
    {
     "name": "stdout",
     "output_type": "stream",
     "text": [
      "['blueberry', 'coconut', 'pineapple', 'strawberry', 'watermelon']\n"
     ]
    }
   ],
   "source": [
    "#Funktionsweise der filter() funktion\n",
    "Fruits = [\"pineapple\",\"apple\",\"orange\",\"coconut\",\"strawberry\",\"blueberry\",\"watermelon\"]\n",
    "Fruits.sort()\n",
    "filtered = filter(lambda x: len(x) > 6,Fruits)\n",
    "filtered = list(filtered)\n",
    "print(filtered)"
   ]
  },
  {
   "cell_type": "code",
   "execution_count": 27,
   "id": "49c3fa37-dc93-48b7-826b-c97f831876c5",
   "metadata": {},
   "outputs": [
    {
     "name": "stdout",
     "output_type": "stream",
     "text": [
      "['apple', 'blueberry', 'coconut', 'orange', 'pineapple', 'strawberry', 'watermelon']\n"
     ]
    }
   ],
   "source": [
    "#Funktionsweise der sorted() Funktion\n",
    "Fruits = [\"pineapple\",\"apple\",\"orange\",\"coconut\",\"strawberry\",\"blueberry\",\"watermelon\"]\n",
    "Fruits = sorted(Fruits)#um die Elemente in aufsteigend alphabetischer Reihenfolge\n",
    "#Fruits = sorted(Fruits, reverse=True)#um die Elemente in absteigend alphabetischer Reihenfolge\n",
    "print(Fruits)\n",
    "# sorted() kann bei Listen,Tupeln,Dictionaries angewendet werden"
   ]
  },
  {
   "cell_type": "code",
   "execution_count": 3,
   "id": "a736631d-7d55-47db-8a5a-d1f120953688",
   "metadata": {},
   "outputs": [
    {
     "name": "stdout",
     "output_type": "stream",
     "text": [
      "Charlie:  35 years old.\n",
      "Alice:  30 years old.\n",
      "Bob:  25 years old.\n",
      "David:  20 years old.\n"
     ]
    }
   ],
   "source": [
    "#Funktionsweise der zip() Funktion\n",
    "#Program ohne zip()\n",
    "\"\"\"\n",
    "names = [\"Alice\",\"Bob\",\"Charlie\",\"David\"]\n",
    "ages = [30,25,35,20]\n",
    "\n",
    "for idx in range(min(len(names),len(ages))):\n",
    "    name = names[idx]\n",
    "    age = ages[idx]\n",
    "    print(f\"{name} is {age} years old.\")\n",
    "\"\"\"\n",
    "#Program mit zip()\n",
    "names = [\"Alice\",\"Bob\",\"Charlie\",\"David\"]\n",
    "ages = [30,25,35,20]\n",
    "\n",
    "combined = list(zip(names, ages))\n",
    "combined = sorted(combined, key= lambda x: x[1], reverse=True)\n",
    "#print(combined)\n",
    "for name,age in combined:\n",
    "    print(f\"{name}: {age: } years old.\")"
   ]
  }
 ],
 "metadata": {
  "kernelspec": {
   "display_name": "Python 3 (ipykernel)",
   "language": "python",
   "name": "python3"
  },
  "language_info": {
   "codemirror_mode": {
    "name": "ipython",
    "version": 3
   },
   "file_extension": ".py",
   "mimetype": "text/x-python",
   "name": "python",
   "nbconvert_exporter": "python",
   "pygments_lexer": "ipython3",
   "version": "3.11.7"
  }
 },
 "nbformat": 4,
 "nbformat_minor": 5
}
