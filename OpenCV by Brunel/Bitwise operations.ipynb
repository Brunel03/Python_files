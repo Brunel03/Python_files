{
 "cells": [
  {
   "cell_type": "code",
   "execution_count": 1,
   "id": "435503e5",
   "metadata": {},
   "outputs": [],
   "source": [
    "import cv2\n",
    "import numpy as np"
   ]
  },
  {
   "cell_type": "code",
   "execution_count": 2,
   "id": "def698a8",
   "metadata": {},
   "outputs": [
    {
     "data": {
      "text/plain": [
       "-1"
      ]
     },
     "execution_count": 2,
     "metadata": {},
     "output_type": "execute_result"
    }
   ],
   "source": [
    "blank = np.zeros((400, 400), dtype = 'uint8')\n",
    "\n",
    "rect = cv2.rectangle(blank.copy(),(30, 30), (370, 370), (255), -1 )\n",
    "cir = cv2.circle(blank.copy(),(200, 200), 200, 255, -1)\n",
    "\n",
    "# bitwise AND --> intersecting regions \n",
    "bit_and = cv2.bitwise_and(rect, cir)\n",
    "cv2.imshow('bitwise AND', bit_and)\n",
    "\n",
    "#bitwise OR --> intersecting and non-intersecting regions \n",
    "bit_or = cv2.bitwise_or(rect, cir)\n",
    "cv2.imshow('bitwise or', bit_or)\n",
    "\n",
    "#bitwise XOR --> non-intersecting regions \n",
    "bit_xor = cv2.bitwise_xor(rect, cir)\n",
    "cv2.imshow('bitwise xor', bit_xor)\n",
    "\n",
    "#bitwise NOT -->  \n",
    "bit_not = cv2.bitwise_not(rect)\n",
    "cv2.imshow('bitwise not', bit_not)\n",
    "\n",
    "#cv2.imshow('Shape 1', rect)\n",
    "#cv2.imshow('Shape 2', cir)\n",
    "cv2.waitKey(0)"
   ]
  }
 ],
 "metadata": {
  "kernelspec": {
   "display_name": "Python 3",
   "language": "python",
   "name": "python3"
  },
  "language_info": {
   "codemirror_mode": {
    "name": "ipython",
    "version": 3
   },
   "file_extension": ".py",
   "mimetype": "text/x-python",
   "name": "python",
   "nbconvert_exporter": "python",
   "pygments_lexer": "ipython3",
   "version": "3.10.5"
  }
 },
 "nbformat": 4,
 "nbformat_minor": 5
}
