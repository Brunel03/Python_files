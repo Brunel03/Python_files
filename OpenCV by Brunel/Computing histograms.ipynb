{
 "cells": [
  {
   "cell_type": "code",
   "execution_count": 1,
   "id": "bed65a07",
   "metadata": {},
   "outputs": [],
   "source": [
    "%matplotlib tk\n",
    "import cv2\n",
    "import numpy as np\n",
    "import matplotlib.pyplot as plt"
   ]
  },
  {
   "cell_type": "code",
   "execution_count": 9,
   "id": "11b2629f",
   "metadata": {},
   "outputs": [
    {
     "data": {
      "text/plain": [
       "-1"
      ]
     },
     "execution_count": 9,
     "metadata": {},
     "output_type": "execute_result"
    }
   ],
   "source": [
    "img = cv2.imread('4112d43fef464f46a1d68b0de05d8369.jpg')\n",
    "\n",
    "gray = cv2.cvtColor(img, cv2.COLOR_BGR2GRAY)\n",
    "\n",
    "#Grayscale histograms\n",
    "gray_his = cv2.calcHist([gray], [0], None, [256], [0,256])\n",
    "plt.figure()\n",
    "plt.title('Grayscale histogram')\n",
    "plt.xlabel('Bins')\n",
    "plt.ylabel('# of pixels')\n",
    "plt.xlim([0, 256])\n",
    "plt.plot(gray_his)\n",
    "plt.show()\n",
    "\n",
    "#Coloured Histograms\n",
    "plt.figure()\n",
    "plt.title('Coloured histogram')\n",
    "plt.xlabel('Bins')\n",
    "plt.ylabel('# of pixels')\n",
    "col = ('b', 'g', 'r')\n",
    "for i, col in enumerate(col):\n",
    "    col_his = cv2.calcHist([img], [i], None, [256], [0,256])\n",
    "    plt.plot(col_his, color=col)\n",
    "    plt.xlim([0, 256])\n",
    "plt.show()\n",
    "\n",
    "cv2.waitKey(0)"
   ]
  }
 ],
 "metadata": {
  "kernelspec": {
   "display_name": "Python 3",
   "language": "python",
   "name": "python3"
  },
  "language_info": {
   "codemirror_mode": {
    "name": "ipython",
    "version": 3
   },
   "file_extension": ".py",
   "mimetype": "text/x-python",
   "name": "python",
   "nbconvert_exporter": "python",
   "pygments_lexer": "ipython3",
   "version": "3.10.5"
  }
 },
 "nbformat": 4,
 "nbformat_minor": 5
}
