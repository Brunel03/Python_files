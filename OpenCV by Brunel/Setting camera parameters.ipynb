{
 "cells": [
  {
   "cell_type": "code",
   "execution_count": 1,
   "id": "4c3c4554-3fba-46b9-815d-b2d2e3b2aa9c",
   "metadata": {},
   "outputs": [],
   "source": [
    "import cv2"
   ]
  },
  {
   "cell_type": "markdown",
   "id": "45bbf84a-fe1f-4850-b452-cc3a9fc3c8c3",
   "metadata": {},
   "source": [
    "### Parameters der Kamera setzen"
   ]
  },
  {
   "cell_type": "code",
   "execution_count": 2,
   "id": "ec85f11c-d159-4d55-9f24-df22e2f9b3ac",
   "metadata": {},
   "outputs": [
    {
     "name": "stdout",
     "output_type": "stream",
     "text": [
      "640.0 x 480.0\n",
      "640.0 x 480.0\n"
     ]
    }
   ],
   "source": [
    "cap = cv2.VideoCapture(0)\n",
    "\n",
    "print(f\"{cap.get(cv2.CAP_PROP_FRAME_WIDTH)} x {cap.get(cv2.CAP_PROP_FRAME_HEIGHT)}\") #Original Size of the Frame\n",
    "cap.set(3, 560) #setting the Width\n",
    "cap.set(4, 560) #setting the Height\n",
    "print(f\"{cap.get(3)} x {cap.get(4)}\") #New size of the frame\n",
    "\n",
    "while cap.isOpened():\n",
    "    ret, frame = cap.read()\n",
    "    if ret == True:\n",
    "        gray = cv2.cvtColor(frame, cv2.COLOR_BGR2GRAY)\n",
    "        cv2.imshow('frame', gray)\n",
    "    \n",
    "        if cv2.waitKey(1) & 0xFF == ord('q'):\n",
    "            break\n",
    "    else:\n",
    "        break\n",
    "        \n",
    "cap.release()\n",
    "cv2.destroyAllWindows()"
   ]
  },
  {
   "cell_type": "markdown",
   "id": "ed36e410-81a5-46c1-8e2b-6f98f76ee5fa",
   "metadata": {},
   "source": [
    "### Datum und Uhrzeit auf Videos anzeigen"
   ]
  },
  {
   "cell_type": "code",
   "execution_count": 1,
   "id": "4691e965-47d2-4418-9bb6-af7e19249a5c",
   "metadata": {},
   "outputs": [],
   "source": [
    "from datetime import datetime"
   ]
  },
  {
   "cell_type": "code",
   "execution_count": null,
   "id": "d737d71a-afcb-4fb8-9818-ff3343df7308",
   "metadata": {},
   "outputs": [
    {
     "name": "stdout",
     "output_type": "stream",
     "text": [
      "640.0 x 480.0\n"
     ]
    }
   ],
   "source": [
    "cap = cv2.VideoCapture(0)\n",
    "\n",
    "print(f\"{cap.get(cv2.CAP_PROP_FRAME_WIDTH)} x {cap.get(cv2.CAP_PROP_FRAME_HEIGHT)}\") #Original Size of the Frame\n",
    "\n",
    "while cap.isOpened():\n",
    "    ret, frame = cap.read()\n",
    "    if ret == True:\n",
    "        font = cv2.FONT_HERSHEY_SIMPLEX\n",
    "        text = \"Width: \"+str(cap.get(cv2.CAP_PROP_FRAME_WIDTH))+ \" Height: \"+str(cap.get(cv2.CAP_PROP_FRAME_HEIGHT))\n",
    "        date = str(datetime.now())\n",
    "        \n",
    "        frame = cv2.putText(frame, date, (10, 50), font, 1,(0, 255, 255), 2, cv2.LINE_AA)\n",
    "        cv2.imshow('frame', frame)\n",
    "    \n",
    "        if cv2.waitKey(1) & 0xFF == ord('q'):\n",
    "            break\n",
    "    else:\n",
    "        break\n",
    "        \n",
    "cap.release()\n",
    "cv2.destroyAllWindows()"
   ]
  }
 ],
 "metadata": {
  "kernelspec": {
   "display_name": "Python 3",
   "language": "python",
   "name": "python3"
  },
  "language_info": {
   "codemirror_mode": {
    "name": "ipython",
    "version": 3
   },
   "file_extension": ".py",
   "mimetype": "text/x-python",
   "name": "python",
   "nbconvert_exporter": "python",
   "pygments_lexer": "ipython3",
   "version": "3.10.5"
  }
 },
 "nbformat": 4,
 "nbformat_minor": 5
}
