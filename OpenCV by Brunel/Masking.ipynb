{
 "cells": [
  {
   "cell_type": "code",
   "execution_count": 2,
   "id": "51531855",
   "metadata": {},
   "outputs": [],
   "source": [
    "import cv2\n",
    "import numpy as np"
   ]
  },
  {
   "cell_type": "code",
   "execution_count": 3,
   "id": "14cfb471",
   "metadata": {},
   "outputs": [],
   "source": [
    "def rescaleFrame(frame, scale = 0.25): #This function allows to resize a picture \n",
    "    width = int(frame.shape[1] * scale)\n",
    "    height = int(frame.shape[0] * scale)\n",
    "    dimensions = (width, height)\n",
    "    return cv2.resize(frame, dimensions, interpolation=cv2.INTER_AREA)"
   ]
  },
  {
   "cell_type": "code",
   "execution_count": 8,
   "id": "e5fab873",
   "metadata": {},
   "outputs": [
    {
     "data": {
      "text/plain": [
       "-1"
      ]
     },
     "execution_count": 8,
     "metadata": {},
     "output_type": "execute_result"
    }
   ],
   "source": [
    "img = cv2.imread('IMG_20250218_093953263_PORTRAIT.jpg')\n",
    "img = rescaleFrame(img)\n",
    "cv2.imshow('Image', img)\n",
    "\n",
    "blank = np.zeros(img.shape[:2], dtype = 'uint8')\n",
    "\n",
    "cir = cv2.circle(blank, (img.shape[1] // 2+15, img.shape[0] // 2), 120, 255, -1)\n",
    "\n",
    "masked_img = cv2.bitwise_and(img, img, mask=cir)\n",
    "cv2.imshow('Masked image', masked_img)\n",
    "\n",
    "\n",
    "\n",
    "cv2.waitKey(0)"
   ]
  }
 ],
 "metadata": {
  "kernelspec": {
   "display_name": "Python 3",
   "language": "python",
   "name": "python3"
  },
  "language_info": {
   "codemirror_mode": {
    "name": "ipython",
    "version": 3
   },
   "file_extension": ".py",
   "mimetype": "text/x-python",
   "name": "python",
   "nbconvert_exporter": "python",
   "pygments_lexer": "ipython3",
   "version": "3.10.5"
  }
 },
 "nbformat": 4,
 "nbformat_minor": 5
}
