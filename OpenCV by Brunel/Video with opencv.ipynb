{
 "cells": [
  {
   "cell_type": "code",
   "execution_count": 2,
   "id": "64856a72-d5f3-4064-94db-f39c376c71cf",
   "metadata": {},
   "outputs": [],
   "source": [
    "import cv2"
   ]
  },
  {
   "cell_type": "code",
   "execution_count": 6,
   "id": "2f9969ab-3fb9-4a3c-b8b1-5e26c33c9622",
   "metadata": {},
   "outputs": [],
   "source": [
    "def rescaleFrame(frame, scale = 0.25): #This function allows to resize a picture (It works on images, videos and Live stream)\n",
    "    width = int(frame.shape[1] * scale)\n",
    "    height = int(frame.shape[0] * scale)\n",
    "    dimensions = (width, height)\n",
    "    return cv2.resize(frame, dimensions, interpolation = cv2.INTER_AREA)"
   ]
  },
  {
   "cell_type": "code",
   "execution_count": 7,
   "id": "dad8b912-ae69-4e24-9e28-c121a207ef53",
   "metadata": {},
   "outputs": [],
   "source": [
    "def changeRes(width, height): #This function allows to rescale a Video(It works only on Live videos)\n",
    "    capture.set(3, width)\n",
    "    capture.set(4, height)\n",
    "    #return"
   ]
  },
  {
   "cell_type": "code",
   "execution_count": null,
   "id": "13125e4f-8f65-4097-bc1e-3c9794e4508b",
   "metadata": {},
   "outputs": [],
   "source": [
    "# Video aus der Kamera anzeigen (Live Videos)\n",
    "\n",
    "cap = cv2.VideoCapture(0)\n",
    "    \n",
    "while True:\n",
    "    ret, frame = cap.read()\n",
    "    #gray = cv2.cvtColor(frame, cv2.COLOR_BGR2RGB)   \n",
    "    #print(f\"{cap.get(cv2.CAP_PROP_FRAME_WIDTH)} x {cap.get(cv2.CAP_PROP_FRAME_HEIGHT)}\") # Size of the Frame\n",
    "    cv2.imshow('frame', frame)\n",
    "    \n",
    "    if cv2.waitKey(1) & 0xFF == ord('q'):\n",
    "        break\n",
    "        \n",
    "cap.release()\n",
    "cv2.destroyAllWindows()"
   ]
  },
  {
   "cell_type": "code",
   "execution_count": null,
   "id": "f86b8e64-b16a-4f2f-a0f8-310da09356d5",
   "metadata": {},
   "outputs": [],
   "source": [
    "#Live Videos aufnehmen\n",
    "\n",
    "cap = cv2.VideoCapture(0)\n",
    "fourcc = cv2.VideoWriter_fourcc(*'XVID')\n",
    "output = cv2.VideoWriter('Frame_1.mp4', fourcc, 50.0,(640,480))\n",
    "while True:\n",
    "    ret, frame = cap.read()\n",
    "    #gray = cv2.cvtColor(frame, cv2.COLOR_BGR2RGB)\n",
    "    if ret == True:\n",
    "        print(f\"{cap.get(cv2.CAP_PROP_FRAME_WIDTH)} x {cap.get(cv2.CAP_PROP_FRAME_HEIGHT)}\") # Size of the Frame\n",
    "        output.write(frame)\n",
    "        cv2.imshow('frame', frame)\n",
    "    \n",
    "        if cv2.waitKey(1) & 0xFF == ord('q'):\n",
    "            break\n",
    "    else:\n",
    "        break\n",
    "        \n",
    "cap.release()\n",
    "output.release()\n",
    "cv2.destroyAllWindows()"
   ]
  },
  {
   "cell_type": "code",
   "execution_count": null,
   "id": "6fd8d9b9-709e-4127-8ffd-290d14993721",
   "metadata": {},
   "outputs": [],
   "source": [
    "#Resizing video\n",
    "\n",
    "cap = cv2.VideoCapture(r\"C:\\Users\\amour\\Videos\\[ Torrent911.com ] Shang.Chi.and.the.Legend.of.the.Ten.Rings.2021.TRUEFRENCH.BDRip.XviD-EXTREME.avi\")\n",
    "while True:\n",
    "    ret, frame = cap.read()\n",
    "    #gray = cv2.cvtColor(frame, cv2.COLOR_BGR2RGB)   \n",
    "    #print(f\"{cap.get(cv2.CAP_PROP_FRAME_WIDTH)} x {cap.get(cv2.CAP_PROP_FRAME_HEIGHT)}\") # Size of the Frame\n",
    "    resized_video = rescaleFrame(frame, scale=2)\n",
    "    cv2.imshow('frame', resized_video)\n",
    "    \n",
    "    if cv2.waitKey(1) & 0xFF == ord('q'):\n",
    "        break\n",
    "        \n",
    "cap.release()\n",
    "cv2.destroyAllWindows()"
   ]
  }
 ],
 "metadata": {
  "kernelspec": {
   "display_name": "Python 3",
   "language": "python",
   "name": "python3"
  },
  "language_info": {
   "codemirror_mode": {
    "name": "ipython",
    "version": 3
   },
   "file_extension": ".py",
   "mimetype": "text/x-python",
   "name": "python",
   "nbconvert_exporter": "python",
   "pygments_lexer": "ipython3",
   "version": "3.10.5"
  }
 },
 "nbformat": 4,
 "nbformat_minor": 5
}
