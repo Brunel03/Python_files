{
 "cells": [
  {
   "cell_type": "code",
   "execution_count": null,
   "id": "698b24bf-dcef-4a6c-ab90-048d7dff792a",
   "metadata": {},
   "outputs": [],
   "source": [
    "import cv2\n",
    "import numpy as np"
   ]
  },
  {
   "cell_type": "code",
   "execution_count": 2,
   "id": "146ae9b1-3329-490d-987b-53795c021fdf",
   "metadata": {},
   "outputs": [],
   "source": [
    "def rescaleFrame(frame, scale = 0.15): #This function allows to resize a picture \n",
    "    width = int(frame.shape[1] * scale)\n",
    "    height = int(frame.shape[0] * scale)\n",
    "    dimensions = (width, height)\n",
    "    return cv2.resize(frame, dimensions, interpolation=cv2.INTER_AREA)"
   ]
  },
  {
   "cell_type": "code",
   "execution_count": null,
   "id": "8e1e5c96-ddff-4482-9eda-af18a0b69cb8",
   "metadata": {},
   "outputs": [
    {
     "name": "stdout",
     "output_type": "stream",
     "text": [
      "(348, 261, 3)\n",
      "(348, 261)\n",
      "(348, 261)\n",
      "(348, 261)\n"
     ]
    }
   ],
   "source": [
    "img = cv2.imread('IMG_20250218_093953263_PORTRAIT.jpg')\n",
    "img_1 = rescaleFrame(img)\n",
    "blank = np.zeros(img_1.shape[:2], dtype = \"uint8\")\n",
    "#cv2.imshow('img', img_1)\n",
    "\n",
    "#split the image in blue, green and red\n",
    "b,g,r = cv2.split(img_1)\n",
    "\n",
    "blue = cv2.merge([b, blank, blank])\n",
    "green = cv2.merge([blank, g, blank])\n",
    "red = cv2.merge([blank, blank, r])\n",
    "\n",
    "cv2.imshow('blue img', blue)\n",
    "cv2.imshow('green img', green)\n",
    "cv2.imshow('red img', red)\n",
    "\n",
    "print(img_1.shape)\n",
    "print(b.shape)\n",
    "print(g.shape)\n",
    "print(r.shape)\n",
    "\n",
    "\n",
    "#merge\n",
    "merged = cv2.merge([b, g, r])\n",
    "cv2.imshow('Merged img', merged)\n",
    "\n",
    "cv2.waitKey(0)"
   ]
  }
 ],
 "metadata": {
  "kernelspec": {
   "display_name": "Python 3",
   "language": "python",
   "name": "python3"
  },
  "language_info": {
   "codemirror_mode": {
    "name": "ipython",
    "version": 3
   },
   "file_extension": ".py",
   "mimetype": "text/x-python",
   "name": "python",
   "nbconvert_exporter": "python",
   "pygments_lexer": "ipython3",
   "version": "3.10.5"
  }
 },
 "nbformat": 4,
 "nbformat_minor": 5
}
