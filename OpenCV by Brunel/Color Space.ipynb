{
 "cells": [
  {
   "cell_type": "code",
   "execution_count": 1,
   "id": "4da2ea6e-d821-42ce-81ed-0b458e936c83",
   "metadata": {},
   "outputs": [],
   "source": [
    "import cv2\n",
    "import numpy as np\n",
    "import matplotlib.pyplot as plt"
   ]
  },
  {
   "cell_type": "code",
   "execution_count": 2,
   "id": "3cfcb97c-7a99-4c2d-84e6-89dd8833f27b",
   "metadata": {},
   "outputs": [],
   "source": [
    "def rescaleFrame(frame, scale = 0.15): #This function allows to resize a picture \n",
    "    width = int(frame.shape[1] * scale)\n",
    "    height = int(frame.shape[0] * scale)\n",
    "    dimensions = (width, height)\n",
    "    return cv2.resize(frame, dimensions, interpolation=cv2.INTER_AREA)\n",
    "    "
   ]
  },
  {
   "cell_type": "code",
   "execution_count": 3,
   "id": "8c646045-e7c5-4939-95f0-90682d4eefb4",
   "metadata": {},
   "outputs": [
    {
     "data": {
      "text/plain": [
       "-1"
      ]
     },
     "execution_count": 3,
     "metadata": {},
     "output_type": "execute_result"
    }
   ],
   "source": [
    "img = cv2.imread('IMG_20250218_093953263_PORTRAIT.jpg')\n",
    "img_1 = rescaleFrame(img)\n",
    "cv2.imshow('img', img_1)\n",
    "#plt.imshow(img_1)\n",
    "#plt.show()\n",
    "\n",
    "gray = cv2.cvtColor(img_1, cv2.COLOR_BGR2GRAY)\n",
    "cv2.imshow('grayed img', gray)\n",
    "\n",
    "#BGR(Blue Green Red) to HSV(High Saturation Value)\n",
    "hsv = cv2.cvtColor(img_1, cv2.COLOR_BGR2HSV)\n",
    "cv2.imshow('HSV img', hsv)\n",
    "\n",
    "#BGR to L*a*b\n",
    "lab = cv2.cvtColor(img_1, cv2.COLOR_BGR2LAB)\n",
    "cv2.imshow('LAB img', lab)\n",
    "\n",
    "rgb = cv2.cvtColor(img_1, cv2.COLOR_BGR2RGB)\n",
    "cv2.imshow('rgb img', rgb)\n",
    "\n",
    "cv2.waitKey(0)"
   ]
  }
 ],
 "metadata": {
  "kernelspec": {
   "display_name": "Python 3",
   "language": "python",
   "name": "python3"
  },
  "language_info": {
   "codemirror_mode": {
    "name": "ipython",
    "version": 3
   },
   "file_extension": ".py",
   "mimetype": "text/x-python",
   "name": "python",
   "nbconvert_exporter": "python",
   "pygments_lexer": "ipython3",
   "version": "3.10.5"
  }
 },
 "nbformat": 4,
 "nbformat_minor": 5
}
