{
 "cells": [
  {
   "cell_type": "code",
   "execution_count": 1,
   "id": "389f1636-7e3b-4b63-b56f-17f7f98258d4",
   "metadata": {},
   "outputs": [],
   "source": [
    "import numpy as np\n",
    "import cv2"
   ]
  },
  {
   "cell_type": "code",
   "execution_count": 2,
   "id": "59417cb0-7310-493c-bfef-a5de24d00f76",
   "metadata": {},
   "outputs": [
    {
     "data": {
      "text/plain": [
       "-1"
      ]
     },
     "execution_count": 2,
     "metadata": {},
     "output_type": "execute_result"
    }
   ],
   "source": [
    "img = cv2.imread('IMG_20250218_093953263_PORTRAIT.jpg')\n",
    "#cv2.imshow(img)\n",
    "\n",
    "def rescaleFrame(frame, scale = 0.25): #This function allows to resize a picture \n",
    "    width = int(frame.shape[1] * scale)\n",
    "    height = int(frame.shape[0] * scale)\n",
    "    dimensions = (width, height)\n",
    "    return cv2.resize(frame, dimensions, interpolation=cv2.INTER_AREA)\n",
    "    \n",
    "frame_resized = rescaleFrame(img)\n",
    "cv2.imshow('image', frame_resized)\n",
    "\n",
    "cv2.waitKey(0)\n",
    "#cv2.destroyAllWindows()"
   ]
  },
  {
   "cell_type": "code",
   "execution_count": 3,
   "id": "3ffa7522-146f-4644-9e3d-82c9454addeb",
   "metadata": {},
   "outputs": [
    {
     "data": {
      "text/plain": [
       "-1"
      ]
     },
     "execution_count": 3,
     "metadata": {},
     "output_type": "execute_result"
    }
   ],
   "source": [
    "# Drawing Shapes\n",
    "blank = np.zeros((500, 500,3), dtype=\"uint8\") # Here we create a black image with numpy\n",
    "#cv2.imshow('Blank', blank)\n",
    "\n",
    "blank[350:400, 350:400] = 0, 200, 20\n",
    "\n",
    "cv2.rectangle(blank, (0,0), (250, 250),(0,255, 0), cv2.FILLED)#rectangle\n",
    "\n",
    "cv2.circle(blank, (250, 250), 50,(100,0,255), cv2.FILLED)#circle\n",
    "cv2.line(blank, (0, 0), (250, 250),(45,60,0), 5)#line\n",
    "cv2.arrowedLine(blank, (0,250), (250, 250),(50,50,50), 5)# arrowed line\n",
    "cv2.putText(blank, \"Bavoua Brunel\", (225, 225), cv2.FONT_HERSHEY_TRIPLEX, 1.0, (0, 255, 250), 2)#text\n",
    "cv2.imshow('Rectangle', blank)\n",
    "\n",
    "cv2.waitKey(0)"
   ]
  },
  {
   "cell_type": "code",
   "execution_count": 4,
   "id": "46791279-fde6-4b7c-852d-b517b1c0032e",
   "metadata": {},
   "outputs": [],
   "source": [
    "#Blur\n",
    "img = cv2.imread('IMG_20250218_093953263_PORTRAIT.jpg')\n",
    "blur = cv2.GaussianBlur(img, (1, 1), cv2.BORDER_DEFAULT)\n",
    "\n",
    "def rescaleFrame(frame, scale = 0.25): #This function allows to resize a picture \n",
    "    width = int(frame.shape[1] * scale)\n",
    "    height = int(frame.shape[0] * scale)\n",
    "    dimensions = (width, height)\n",
    "    return cv2.resize(frame, dimensions, interpolation=cv2.INTER_AREA)\n",
    "    \n",
    "frame_resized = rescaleFrame(blur)\n",
    "cv2.imshow('image', frame_resized)"
   ]
  },
  {
   "cell_type": "code",
   "execution_count": 8,
   "id": "ad9db291-dc3f-4a8b-b1bd-46db981ff002",
   "metadata": {},
   "outputs": [
    {
     "data": {
      "text/plain": [
       "-1"
      ]
     },
     "execution_count": 8,
     "metadata": {},
     "output_type": "execute_result"
    }
   ],
   "source": [
    "# edge Cascade\n",
    "img = cv2.imread('IMG_20250218_093953263_PORTRAIT.jpg')\n",
    "canny = cv2.Canny(img, 75, 85)\n",
    "\n",
    "def rescaleFrame(frame, scale = 0.25): #This function allows to resize a picture \n",
    "    width = int(frame.shape[1] * scale)\n",
    "    height = int(frame.shape[0] * scale)\n",
    "    dimensions = (width, height)\n",
    "    return cv2.resize(frame, dimensions, interpolation=cv2.INTER_AREA)\n",
    "    \n",
    "frame_resized = rescaleFrame(canny)\n",
    "cv2.imshow('image', frame_resized)\n",
    "\n",
    "cv2.waitKey(0)\n"
   ]
  },
  {
   "cell_type": "code",
   "execution_count": 7,
   "id": "994942e2-a4f9-41c2-aebd-500da284d6b6",
   "metadata": {},
   "outputs": [
    {
     "data": {
      "text/plain": [
       "-1"
      ]
     },
     "execution_count": 7,
     "metadata": {},
     "output_type": "execute_result"
    }
   ],
   "source": [
    "# Resizing 2\n",
    "img = cv2.imread('IMG_20250218_093953263_PORTRAIT.jpg')\n",
    "resized = cv2.resize(img, (2000, 1080), interpolation=cv2.INTER_CUBIC)\n",
    "cv2.imshow('Resized', resized)\n",
    "cv2.waitKey(0)"
   ]
  },
  {
   "cell_type": "code",
   "execution_count": 3,
   "id": "ed973c44-5bc1-4e46-9673-48d67df869a8",
   "metadata": {},
   "outputs": [
    {
     "data": {
      "text/plain": [
       "-1"
      ]
     },
     "execution_count": 3,
     "metadata": {},
     "output_type": "execute_result"
    }
   ],
   "source": [
    "# Cropp\n",
    "img = cv2.imread('IMG_20250218_093953263_PORTRAIT.jpg')\n",
    "cropped = img[100:200, 200:400]\n",
    "cv2.imshow(\"Cropped\", cropped)\n",
    "cv2.waitKey(0)"
   ]
  }
 ],
 "metadata": {
  "kernelspec": {
   "display_name": "Python 3",
   "language": "python",
   "name": "python3"
  },
  "language_info": {
   "codemirror_mode": {
    "name": "ipython",
    "version": 3
   },
   "file_extension": ".py",
   "mimetype": "text/x-python",
   "name": "python",
   "nbconvert_exporter": "python",
   "pygments_lexer": "ipython3",
   "version": "3.10.5"
  }
 },
 "nbformat": 4,
 "nbformat_minor": 5
}
