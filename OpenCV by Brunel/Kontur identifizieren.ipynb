{
 "cells": [
  {
   "cell_type": "code",
   "execution_count": 1,
   "id": "d220b326-7fe0-4ab0-8aa2-3509bef5f558",
   "metadata": {},
   "outputs": [],
   "source": [
    "import cv2\n",
    "import numpy as np"
   ]
  },
  {
   "cell_type": "code",
   "execution_count": 3,
   "id": "8a58496d-490d-416e-b9d9-1dc4b8410d0f",
   "metadata": {},
   "outputs": [
    {
     "name": "stdout",
     "output_type": "stream",
     "text": [
      "3755 contour(s) found!\n"
     ]
    },
    {
     "data": {
      "text/plain": [
       "-1"
      ]
     },
     "execution_count": 3,
     "metadata": {},
     "output_type": "execute_result"
    }
   ],
   "source": [
    "img = cv2.imread('4112d43fef464f46a1d68b0de05d8369.jpg')\n",
    "#print(img.size) # Total number of pixels\n",
    "#cv2.imshow('Image', img)\n",
    "blank = np.zeros(img.shape, dtype = 'uint8')\n",
    "#cv2.imshow('blank', blank)\n",
    "\n",
    "gray = cv2.cvtColor(img, cv2.COLOR_BGR2GRAY)\n",
    "#cv2.imshow('Image 2', gray)\n",
    "\n",
    "blur = cv2.GaussianBlur(gray, (3, 3), cv2.BORDER_DEFAULT)\n",
    "cv2.imshow('Blurred image', blur)\n",
    "\n",
    "canny = cv2.Canny(blur, 15, 70)\n",
    "cv2.imshow('Canny edge', canny)\n",
    "\n",
    "#ret, thresh = cv2.threshold(gray, 100, 255, cv2.THRESH_BINARY)\n",
    "#cv2.imshow(\"Gray\", thresh)\n",
    "\n",
    "contours, hierarchies = cv2.findContours(canny, cv2.RETR_LIST, cv2.CHAIN_APPROX_NONE)\n",
    "print(f'{len(contours)} contour(s) found!')\n",
    "\n",
    "cv2.drawContours(blank, contours, -1, (0, 0, 255), 1)\n",
    "cv2.imshow('Contoured', blank)\n",
    "cv2.waitKey(0)"
   ]
  }
 ],
 "metadata": {
  "kernelspec": {
   "display_name": "base",
   "language": "python",
   "name": "python3"
  },
  "language_info": {
   "codemirror_mode": {
    "name": "ipython",
    "version": 3
   },
   "file_extension": ".py",
   "mimetype": "text/x-python",
   "name": "python",
   "nbconvert_exporter": "python",
   "pygments_lexer": "ipython3",
   "version": "3.11.7"
  }
 },
 "nbformat": 4,
 "nbformat_minor": 5
}
