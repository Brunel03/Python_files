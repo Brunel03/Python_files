{
 "cells": [
  {
   "cell_type": "code",
   "execution_count": 2,
   "id": "519487fc-228f-40ed-959a-c3224d1b3678",
   "metadata": {},
   "outputs": [],
   "source": [
    "import cv2\n",
    "import numpy as np"
   ]
  },
  {
   "cell_type": "code",
   "execution_count": null,
   "id": "745eecf5-fb3b-4f79-bcfe-00f398d56a6e",
   "metadata": {},
   "outputs": [
    {
     "data": {
      "text/plain": [
       "-1"
      ]
     },
     "execution_count": 3,
     "metadata": {},
     "output_type": "execute_result"
    }
   ],
   "source": [
    "# Translation\n",
    "img = cv2.imread('IMG_20250218_093953263_PORTRAIT.jpg')\n",
    "\n",
    "def translation(img, x, y):\n",
    "    transMat = np.float32([[1, 0, x],[0, 1,y]])\n",
    "    dimensions = (img.shape[1],img.shape[0])\n",
    "    return cv2.warpAffine(img, transMat, dimensions)\n",
    "\n",
    "def rescaleFrame(frame, scale = 0.25): #This function allows to resize a picture \n",
    "    width = int(frame.shape[1] * scale)\n",
    "    height = int(frame.shape[0] * scale)\n",
    "    dimensions = (width, height)\n",
    "    return cv2.resize(frame, dimensions, interpolation=cv2.INTER_AREA)\n",
    "\n",
    "#-x ----> left\n",
    "#-y ----> up\n",
    "#x -----> right\n",
    "#y -----> down\n",
    "\n",
    "translated = translation(img, -250, 400)\n",
    "resized = rescaleFrame(translated)\n",
    "cv2.imshow('translated', resized)\n",
    "\n",
    "cv2.waitKey(0)"
   ]
  },
  {
   "cell_type": "code",
   "execution_count": null,
   "id": "c1ba0778-02df-4491-8859-40c68da9c4a9",
   "metadata": {},
   "outputs": [
    {
     "data": {
      "text/plain": [
       "-1"
      ]
     },
     "execution_count": 4,
     "metadata": {},
     "output_type": "execute_result"
    }
   ],
   "source": [
    "# Rotate\n",
    "img = cv2.imread('IMG_20250218_093953263_PORTRAIT.jpg')\n",
    "\n",
    "def rotation(img, angle, rotPoint = None):\n",
    "    (height, width) = img.shape[:2]\n",
    "\n",
    "    if rotPoint is None:\n",
    "        rotPoint = (width//2, height//2) # if the point of rotation is not defined then the image must be rotate at the center\n",
    "    rotMat = cv2.getRotationMatrix2D(rotPoint, angle, 1.0)\n",
    "    dimensions = (width, height)\n",
    "    return cv2.warpAffine(img, rotMat, dimensions)\n",
    "\n",
    "def rescaleFrame(frame, scale = 0.25): #This function allows to resize a picture \n",
    "    width = int(frame.shape[1] * scale)\n",
    "    height = int(frame.shape[0] * scale)\n",
    "    dimensions = (width, height)\n",
    "    return cv2.resize(frame, dimensions, interpolation=cv2.INTER_AREA)\n",
    "\n",
    "rotate = rotation(img, -45)\n",
    "resized = rescaleFrame(rotate)\n",
    "cv2.imshow('translated', resized)\n",
    "\n",
    "rotate_1 = rotation(rotate, -45)\n",
    "resized_1 = rescaleFrame(rotate_1)\n",
    "cv2.imshow('translated_1', resized_1)\n",
    "\n",
    "cv2.waitKey(0)"
   ]
  },
  {
   "cell_type": "code",
   "execution_count": null,
   "id": "f813d026-f5eb-4cb3-928f-ca6ecb4a479a",
   "metadata": {},
   "outputs": [
    {
     "data": {
      "text/plain": [
       "-1"
      ]
     },
     "execution_count": 5,
     "metadata": {},
     "output_type": "execute_result"
    }
   ],
   "source": [
    "#Flip\n",
    "img = cv2.imread('IMG_20250218_093953263_PORTRAIT.jpg')\n",
    "flip = cv2.flip(img, 1)\n",
    "\n",
    "def rescaleFrame(frame, scale = 0.25): #This function allows to resize a picture \n",
    "    width = int(frame.shape[1] * scale)\n",
    "    height = int(frame.shape[0] * scale)\n",
    "    dimensions = (width, height)\n",
    "    return cv2.resize(frame, dimensions, interpolation=cv2.INTER_AREA)\n",
    "\n",
    "resize_1 = rescaleFrame(img)\n",
    "cv2.imshow('Original', resize_1)\n",
    "resize_2 = rescaleFrame(flip)\n",
    "cv2.imshow('Flipped', resize_2)\n",
    "\n",
    "cv2.waitKey(0)"
   ]
  },
  {
   "cell_type": "code",
   "execution_count": null,
   "id": "c4a27882-9ecb-4989-bd83-173e016a50d9",
   "metadata": {},
   "outputs": [],
   "source": []
  }
 ],
 "metadata": {
  "kernelspec": {
   "display_name": "Python 3",
   "language": "python",
   "name": "python3"
  },
  "language_info": {
   "codemirror_mode": {
    "name": "ipython",
    "version": 3
   },
   "file_extension": ".py",
   "mimetype": "text/x-python",
   "name": "python",
   "nbconvert_exporter": "python",
   "pygments_lexer": "ipython3",
   "version": "3.10.5"
  }
 },
 "nbformat": 4,
 "nbformat_minor": 5
}
