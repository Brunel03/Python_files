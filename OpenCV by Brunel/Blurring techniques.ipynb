{
 "cells": [
  {
   "cell_type": "code",
   "execution_count": 1,
   "id": "2065e891-6017-493f-af46-f30135c41aca",
   "metadata": {},
   "outputs": [],
   "source": [
    "import cv2\n",
    "import numpy as np"
   ]
  },
  {
   "cell_type": "code",
   "execution_count": 2,
   "id": "54a3f909-8ecc-4806-857b-decd8695a6e8",
   "metadata": {},
   "outputs": [],
   "source": [
    "def rescaleFrame(frame, scale = 0.15): #This function allows to resize a picture \n",
    "    width = int(frame.shape[1] * scale)\n",
    "    height = int(frame.shape[0] * scale)\n",
    "    dimensions = (width, height)\n",
    "    return cv2.resize(frame, dimensions, interpolation=cv2.INTER_AREA)"
   ]
  },
  {
   "cell_type": "code",
   "execution_count": 3,
   "id": "316549f2-a01d-4814-bb11-b34c483f16ff",
   "metadata": {},
   "outputs": [
    {
     "data": {
      "text/plain": [
       "-1"
      ]
     },
     "execution_count": 3,
     "metadata": {},
     "output_type": "execute_result"
    }
   ],
   "source": [
    "img = cv2.imread('IMG_20250218_093953263_PORTRAIT.jpg')\n",
    "img_1 = rescaleFrame(img)\n",
    "cv2.imshow('img', img_1)\n",
    "\n",
    "#average method\n",
    "average = cv2.blur(img_1, (3, 3))\n",
    "cv2.imshow('Blurred image', average)\n",
    "\n",
    "#Gaussian method\n",
    "blur = cv2.GaussianBlur(img_1, (3, 3), 0)\n",
    "cv2.imshow('Gaussian blur', blur)\n",
    "\n",
    "#Median method\n",
    "median_blur = cv2.medianBlur(img_1, 3)\n",
    "cv2.imshow('Median blur', median_blur)\n",
    "\n",
    "#Bilateral\n",
    "Bilateral_blur = cv2.bilateralFilter(img_1, 10, 35, 25)\n",
    "cv2.imshow('bilateral blur', Bilateral_blur)\n",
    "\n",
    "cv2.waitKey(0)"
   ]
  }
 ],
 "metadata": {
  "kernelspec": {
   "display_name": "Python 3",
   "language": "python",
   "name": "python3"
  },
  "language_info": {
   "codemirror_mode": {
    "name": "ipython",
    "version": 3
   },
   "file_extension": ".py",
   "mimetype": "text/x-python",
   "name": "python",
   "nbconvert_exporter": "python",
   "pygments_lexer": "ipython3",
   "version": "3.10.5"
  }
 },
 "nbformat": 4,
 "nbformat_minor": 5
}
