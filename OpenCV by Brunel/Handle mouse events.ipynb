{
 "cells": [
  {
   "cell_type": "code",
   "execution_count": 1,
   "id": "c57dd3d8-52fe-444d-8bb1-ebb95a859018",
   "metadata": {},
   "outputs": [],
   "source": [
    "import cv2\n",
    "import numpy as np"
   ]
  },
  {
   "cell_type": "code",
   "execution_count": 2,
   "id": "ce6db962-0625-4c95-bb15-1d96116915ab",
   "metadata": {},
   "outputs": [
    {
     "name": "stdout",
     "output_type": "stream",
     "text": [
      "['EVENT_FLAG_ALTKEY', 'EVENT_FLAG_CTRLKEY', 'EVENT_FLAG_LBUTTON', 'EVENT_FLAG_MBUTTON', 'EVENT_FLAG_RBUTTON', 'EVENT_FLAG_SHIFTKEY', 'EVENT_LBUTTONDBLCLK', 'EVENT_LBUTTONDOWN', 'EVENT_LBUTTONUP', 'EVENT_MBUTTONDBLCLK', 'EVENT_MBUTTONDOWN', 'EVENT_MBUTTONUP', 'EVENT_MOUSEHWHEEL', 'EVENT_MOUSEMOVE', 'EVENT_MOUSEWHEEL', 'EVENT_RBUTTONDBLCLK', 'EVENT_RBUTTONDOWN', 'EVENT_RBUTTONUP']\n"
     ]
    }
   ],
   "source": [
    "events = [i for i in dir(cv2) if 'EVENT' in i]\n",
    "print(events)"
   ]
  },
  {
   "cell_type": "code",
   "execution_count": null,
   "id": "122ce72e-8f3e-489f-b725-aef46b8f50e4",
   "metadata": {},
   "outputs": [
    {
     "name": "stdout",
     "output_type": "stream",
     "text": [
      "154, 49\n",
      "263, 153\n",
      "613, 288\n",
      "363, 294\n",
      "280, 217\n",
      "96, 195\n",
      "575, 88\n",
      "333, 75\n"
     ]
    },
    {
     "data": {
      "text/plain": [
       "-1"
      ]
     },
     "execution_count": 3,
     "metadata": {},
     "output_type": "execute_result"
    }
   ],
   "source": [
    "#Funktion 1\n",
    "\n",
    "def rescaleFrame(frame, scale = 0.25): #This function allows to resize a picture \n",
    "    width = int(frame.shape[1] * scale)\n",
    "    height = int(frame.shape[0] * scale)\n",
    "    dimensions = (width, height)\n",
    "    return cv2.resize(frame, dimensions, interpolation=cv2.INTER_AREA)\n",
    "\n",
    "def click_event(event, x, y, flags, params):\n",
    "    if event == cv2.EVENT_LBUTTONDOWN:\n",
    "        print(f\"{x}, {y}\")\n",
    "        font = cv2.FONT_HERSHEY_SIMPLEX\n",
    "        #coord = str(x)+ ', '+str(y)\n",
    "        coord = 'x: '+str(x)+' y: '+str(y)\n",
    "        cv2.putText(img, coord, (x, y), font, 1, (255, 255, 0), 2)\n",
    "        cv2.imshow('image', img)\n",
    "\n",
    "img = np.zeros((360, 720, 3), dtype = 'uint8')\n",
    "cv2.imshow('image', img)\n",
    "\n",
    "cv2.setMouseCallback('image', click_event)\n",
    "cv2.waitKey(0)"
   ]
  },
  {
   "cell_type": "markdown",
   "id": "29e3d7c9-0d87-4db5-8345-792d02fce8c8",
   "metadata": {},
   "source": [
    "### Erklärung für die Funktion N° 1 ###\n",
    "Diese Funktion dient dazu, dass die Koordinaten eines Punktes angezeigt wird , wenn man darauf klickt.\n",
    "\n",
    "Jetzt erkläre ich die schweren Punkten dieser Funktion:\n",
    "\n",
    "1-  `def click_event(event, x, y, flags, params):`: Hier definieren wir die Funktion für unseres Event, die aufgerufen wird, wenn ein Mausereignis in einem OpenCV-Fenster auftritt. Sie erhält Informationen über das Ereignis und die Mausposition. Sie nimmt die folgenden Parameter:\n",
    "\n",
    "    . event : Dieser Parameter enthält den Typ des aufgetretenen Mausereignis (z.B Mausklick, Mausbewegung)\n",
    "     \n",
    "    . x, y : Die Koordinaten (x,y) des Mauszeigers im Fenster, als das Ereignis stattfindet\n",
    "     \n",
    "    . flags : Zusäatzliche Flags, die über den Zustand von Tastaturtasten (wie Strg, Alt) während der Ereignissses informieren\n",
    "     \n",
    "    . params : Optionale Parameter, die an die `cv2.setMouseCallback`-Funktion übergeben werden können und hier weitergeleitet werden. Jedoch werden sie in diesem Code nicht verwendet\n",
    "\n",
    "2- `if event == cv2.EVENT_LBUTTONDOWN` : Hier wird überprüft, ob das aufgetretene Mausereignis das Drücken der linken Maustaste ist"
   ]
  },
  {
   "cell_type": "code",
   "execution_count": null,
   "id": "e8e87a9d-5576-4688-9922-d4443234a745",
   "metadata": {},
   "outputs": [
    {
     "data": {
      "text/plain": [
       "-1"
      ]
     },
     "execution_count": 4,
     "metadata": {},
     "output_type": "execute_result"
    }
   ],
   "source": [
    "#Funktion 2\n",
    "\n",
    "def click_event(event, x, y, flags, params):\n",
    "    if event == cv2.EVENT_RBUTTONDOWN:\n",
    "        blue = img[y, x, 0]\n",
    "        green = img[y, x, 1]\n",
    "        red = img[y, x, 2]\n",
    "        font = cv2.FONT_HERSHEY_SIMPLEX\n",
    "        BGR = str(blue)+', '+str(green)+', '+str(red)\n",
    "        cv2.putText(img, BGR, (x, y), font, .5, (0, 255, 255), 1)\n",
    "        cv2.imshow('image', img)\n",
    "\n",
    "img = cv2.imread('4112d43fef464f46a1d68b0de05d8369.jpg')\n",
    "img1 = rescaleFrame(img)\n",
    "cv2.imshow('image', img1)\n",
    "\n",
    "cv2.setMouseCallback('image', click_event)\n",
    "cv2.waitKey(0)"
   ]
  },
  {
   "cell_type": "markdown",
   "id": "4654be7b-e767-4498-ac18-09f10a596d3a",
   "metadata": {},
   "source": [
    "### Erklärungen für die Funktion N° 2 ###\n",
    "Diese Funktion dient dazu, dass der BGR-Farbwert des Pixels einer Stelle angezeigt wird, wenn man mit den rechten Maustaste auf diese Stelle eines Bild klickt.\n",
    "\n",
    "Jetzt erkläre ich  die schweren Punkte dieser Funktion  :\n",
    "\n",
    "1-  `def click_event(event, x, y, flags, params):`: Hier definieren wir die Funktion für unseres Event, die aufgerufen wird, wenn ein Mausereignis in einem OpenCV-Fenster auftritt. Sie erhält Informationen über das Ereignis und die Mausposition. Sie nimmt die folgenden Parameter:\n",
    "\n",
    "    . event : Dieser Parameter enthält den Typ des aufhgetretenen Mausereignis (z.B Mausklick, Mausbewegung)\n",
    "     \n",
    "    . x, y : Die Koordinaten (x,y) des Mauszeigers im Fenster, als das Ereignis stattfindet\n",
    "     \n",
    "    . flags : Zusäatzliche Flags, die über den Zustand von Tastaturtasten (wie Strg, Alt) während der Ereignissses informieren\n",
    "     \n",
    "    . params : Optionale Parameter, die an die `cv2.setMouseCallback`-Funktion übergeben werden können und hier weitergeleitet werden. Jedoch werden sie in diesem Code nicht verwendet\n",
    "\n",
    "2- `if event == cv2.EVENT_RBUTTONDOWN` : Hier wird überprüft, ob das aufgetretene Mausereignis das Drücken der rechten Maustaste ist\n",
    "\n",
    "3- `blue = img[y, x, 0]` : diese Zeile erkläre ich genauer\n",
    "    [y, x, 0]: Dies ist die Indexierung eines NumPy-Arrays. In OpenCV werden Bilder als NumPy-Arrays gespeichert. Für ein Farbbild (wie es in diesem fall ist) hat das Array typischerweise drei Dimensionen:\n",
    "    \n",
    "    . Die erste Dimension (y), die die Zeilen des Bildes (vertikale Position oder Höhe) repräsentiert\n",
    "    \n",
    "    . Die zweite dimension (x), die die Spalten des Bildes (horizontale Position oder Breite)\n",
    "    \n",
    "    . Die dritte Dimmension (0), die den Farbkanal repräsentiert. In OpenCV ist die Standardfarbreihenfolge BGR (Blue, Green, Red), nicht RGB. Der Index 0 bezieht sich auf den Blaukanal.\n",
    "    \n",
    "    Zusammenfassend greifen wir auf den Pixelwert des Bildes an der Position (x,y) zu. Also der Befehl `blue = img[y, x, 0]` extrahiert den Wert des Blaukanals des Pixels im Bild, auf das den benutzer mit der rechten Maustaste geklickt hat. die Koordination des klicks (x, y) werden verwendet, um den spezifischen Pixel zu lokalisieren.\n",
    "\n",
    "4- `font = cv2.FONT_HERSHEY_SIMPLEX` : Diese Zeile wählt einen Schrifttyp aus, der später verwendet wird, um der Text auf das Bild zu zeichnen\n",
    "\n",
    "5- `BGR = str(blue)+', '+str(green)+', '+str(red)` : Die zeile erstellt einen string, der die BGR-Werte (der Farbwerte des geklickten Pixels) in einem durch Kommas getrennten Format enthält. Dieser String wird später auf das Bild geschrieben.\n",
    "\n",
    "6- `cv2.putText(img, BGR, (x, y), font, .5, (0, 255, 255), 1)` : Diese Funktion zeigt der text auf das Bild.\n",
    "\n",
    "    . img : Das Bild, auf das der text gezeichnet werden soll\n",
    "    \n",
    "    . (x, y) : Die Koordinaten des Punktes, an dem der Text beginnen soll (In diesem fall es ist der Punkt, auf dem man geklickt hat)\n",
    "    \n",
    "    . font : der Schrifttyp\n",
    "    \n",
    "    . .5(0.5) : Der Skalierungsfaktor(coefficient de mise à l'échelle) für die Schriftgröße.\n",
    "    \n",
    "    . (0, 255, 255) : Die Farbe des Textes im BGR-Format. (0, 255, 255) => (blau = 0,grün = 255,rot = 255)\n",
    "    \n",
    "    . 1 : die Dicke der Schriftlinien (Linienstärke)"
   ]
  },
  {
   "cell_type": "code",
   "execution_count": null,
   "id": "ececc9cf-649a-4fe4-8e8b-5c4cf47c27ff",
   "metadata": {},
   "outputs": [
    {
     "data": {
      "text/plain": [
       "-1"
      ]
     },
     "execution_count": 5,
     "metadata": {},
     "output_type": "execute_result"
    }
   ],
   "source": [
    "#Funktion 3\n",
    "import cv2\n",
    "import numpy as np\n",
    "\n",
    "def click_event(event, x, y, flags, params):\n",
    "    if event == cv2.EVENT_LBUTTONDOWN:\n",
    "        cv2.circle(img, (x, y), 2, (149, 0, 245), -1)\n",
    "        points.append((x, y))\n",
    "        if len(points) >= 2:\n",
    "            cv2.line(img, points[-1], points[-2], (149, 0, 245), 3)\n",
    "        cv2.imshow('image', img)\n",
    "\n",
    "img = np.zeros((720, 960, 3), dtype='uint8')\n",
    "cv2.imshow('image', img)\n",
    "points = []\n",
    "\n",
    "cv2.setMouseCallback('image', click_event)\n",
    "cv2.waitKey(0)"
   ]
  },
  {
   "cell_type": "code",
   "execution_count": null,
   "id": "2d6750a0-b5e3-4381-acfc-67cb75dda95a",
   "metadata": {},
   "outputs": [],
   "source": []
  },
  {
   "cell_type": "code",
   "execution_count": null,
   "id": "96ca6d3d-14ec-442e-9f7f-2a9eb2b3fc74",
   "metadata": {},
   "outputs": [
    {
     "name": "stdout",
     "output_type": "stream",
     "text": [
      "119, 154, 222\n",
      "84, 88, 99\n",
      "97, 110, 132\n",
      "37, 33, 28\n"
     ]
    },
    {
     "data": {
      "text/plain": [
       "-1"
      ]
     },
     "execution_count": 7,
     "metadata": {},
     "output_type": "execute_result"
    }
   ],
   "source": [
    "#Funktion 4\n",
    "def click_event1(event, x, y, flags, params):\n",
    "    if event == cv2.EVENT_RBUTTONDOWN:\n",
    "        blue = img[y, x, 0]\n",
    "        green = img[y, x, 1]\n",
    "        red = img[y, x, 2]\n",
    "        print(f'{blue}, {green}, {red}')\n",
    "        cv2.circle(img, (x, y), 3, (149, 0, 245), -1)\n",
    "        \n",
    "        mycolorimage = np.zeros((360, 480, 3), dtype='uint8')\n",
    "        mycolorimage[:] = [blue, green, red]\n",
    "        cv2.imshow('Colored image', mycolorimage)\n",
    "        \n",
    "img = cv2.imread('IMG_20250218_093953263_PORTRAIT~2.jpg')\n",
    "mycolorimage = np.zeros((360, 480, 3), dtype='uint8')\n",
    "cv2.imshow('image', img)\n",
    "\n",
    "cv2.setMouseCallback('image', click_event1)\n",
    "cv2.waitKey(0)"
   ]
  }
 ],
 "metadata": {
  "kernelspec": {
   "display_name": "Python 3",
   "language": "python",
   "name": "python3"
  },
  "language_info": {
   "codemirror_mode": {
    "name": "ipython",
    "version": 3
   },
   "file_extension": ".py",
   "mimetype": "text/x-python",
   "name": "python",
   "nbconvert_exporter": "python",
   "pygments_lexer": "ipython3",
   "version": "3.10.5"
  }
 },
 "nbformat": 4,
 "nbformat_minor": 5
}
