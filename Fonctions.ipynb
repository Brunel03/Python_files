{
 "cells": [
  {
   "cell_type": "code",
   "execution_count": 2,
   "id": "1df2072f-ee27-40f1-86d0-91f5173c138e",
   "metadata": {},
   "outputs": [],
   "source": [
    "```p\n",
    "def addition(a,b):\n",
    "    A = a + b\n",
    "    return A"
   ]
  },
  {
   "cell_type": "markdown",
   "id": "64c6c5e7-eab3-41a7-a7e1-cfeb9582d787",
   "metadata": {},
   "source": [
    "```Python\n",
    "a = float(input(\"Enter a number: \"))\n",
    "b = float(input(\"Enter a other number: \"))\n",
    "addition(a,b)\n",
    "```"
   ]
  },
  {
   "cell_type": "code",
   "execution_count": 32,
   "id": "c1ac0eca-a6e5-470e-b8a3-d73b75155795",
   "metadata": {},
   "outputs": [],
   "source": [
    "def summe(liste):\n",
    "    sum = 0\n",
    "    for element in liste:\n",
    "        sum += element\n",
    "    moy = sum / n\n",
    "    return moy"
   ]
  },
  {
   "cell_type": "code",
   "execution_count": 33,
   "id": "b4747893-cdf5-42d3-9208-941845694e7e",
   "metadata": {},
   "outputs": [
    {
     "name": "stdin",
     "output_type": "stream",
     "text": [
      "Wie viele Elemente soll die Liste enthalten :  2\n",
      "Bitte Geben Sie das Element 1 ein:  12\n",
      "Bitte Geben Sie das Element 2 ein:  14\n"
     ]
    },
    {
     "name": "stdout",
     "output_type": "stream",
     "text": [
      "[12.0, 14.0]\n",
      "13.0\n"
     ]
    }
   ],
   "source": [
    "# Liste in Funktionen als Parameter\n",
    "\"\"\"\n",
    "def summe(liste):\n",
    "    sum = 0\n",
    "    for element in liste:\n",
    "        sum += element\n",
    "    moy = sum / n\n",
    "    return moy\n",
    "\"\"\"\n",
    "n = int(input(\"Wie viele Elemente soll die Liste enthalten : \"))\n",
    "frog = []\n",
    "for i in range(n):\n",
    "    element = float(input(\"Bitte Geben Sie das Element \"+str(i+1)+\" ein: \"))\n",
    "    frog.append(element)\n",
    "print(frog)\n",
    "print(summe(frog))"
   ]
  }
 ],
 "metadata": {
  "kernelspec": {
   "display_name": "Python 3 (ipykernel)",
   "language": "python",
   "name": "python3"
  },
  "language_info": {
   "codemirror_mode": {
    "name": "ipython",
    "version": 3
   },
   "file_extension": ".py",
   "mimetype": "text/x-python",
   "name": "python",
   "nbconvert_exporter": "python",
   "pygments_lexer": "ipython3",
   "version": "3.11.7"
  }
 },
 "nbformat": 4,
 "nbformat_minor": 5
}
