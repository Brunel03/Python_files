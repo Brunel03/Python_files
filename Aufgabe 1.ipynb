{
 "cells": [
  {
   "cell_type": "code",
   "execution_count": null,
   "id": "1189dafb-8c71-4653-b3f9-c65d90e62456",
   "metadata": {},
   "outputs": [],
   "source": [
    "number = float(input(\"Enter your Number: \"))\n",
    "result = float(((number * 2)+ 10) /2)\n",
    "print(int(result))"
   ]
  },
  {
   "cell_type": "code",
   "execution_count": null,
   "id": "4681fe30-7570-433d-acc9-28ff70001179",
   "metadata": {},
   "outputs": [],
   "source": [
    "number = float(input(\"Enter your Number: \"))\n",
    "result = float(((number * 2)+ 10) /2)\n",
    "\n",
    "number = int(number)\n",
    "result = int(result)\n",
    "print(\"You choosed \"+str(number)+\" The magic number ist \"+str(result)+\" .\")"
   ]
  },
  {
   "cell_type": "code",
   "execution_count": null,
   "id": "043109c3-6b5b-4891-b25b-3fb9ef8562bb",
   "metadata": {},
   "outputs": [],
   "source": [
    "v1 = float(input(\"Enter your first number: \"))\n",
    "v2 = float(input(\"Enter your second number: \"))\n",
    "v3 = v1 * v2\n",
    "print(\"The multiplication of your two numbers ist egal to \"+str(v3))"
   ]
  },
  {
   "cell_type": "code",
   "execution_count": null,
   "id": "509abd34-ae8c-4a3a-8666-d755e494bb8c",
   "metadata": {},
   "outputs": [],
   "source": [
    "# Abschluss Kontrollstrukturen\n",
    "# Übung 1.a\n",
    "continents = [\"Afrika\", \"Antarktis\", \"Asien\", \"Australien und Ozeanien\", \"Europa\", \"Nordamerika\", \"Südamerika\"]\n",
    "for element in continents:\n",
    "    print(element)"
   ]
  },
  {
   "cell_type": "code",
   "execution_count": null,
   "id": "680f39ad-3213-4979-9c60-458becf92592",
   "metadata": {},
   "outputs": [],
   "source": [
    "# Andere Methode \n",
    "continents = [\"Afrika\", \"Antarktis\", \"Asien\", \"Australien und Ozeanien\", \"Europa\", \"Nordamerika\", \"Südamerika\"]\n",
    "i = 0\n",
    "while i < len(continents):\n",
    "    print(continents[i])\n",
    "    i += 1"
   ]
  },
  {
   "cell_type": "code",
   "execution_count": 56,
   "id": "6ea5771b-594e-424f-91b3-5d2ff532f57a",
   "metadata": {},
   "outputs": [
    {
     "name": "stdout",
     "output_type": "stream",
     "text": [
      "Afrika\n",
      "Asien\n",
      "Australien und Ozeanien\n",
      "Europa\n",
      "Nordamerika\n",
      "Südamerika\n"
     ]
    }
   ],
   "source": [
    "# Übung 1.b: gib alle kontinents außer Antarktis\n",
    "continents = [\"Afrika\", \"Antarktis\", \"Asien\", \"Australien und Ozeanien\", \"Europa\", \"Nordamerika\", \"Südamerika\"]\n",
    "for element in continents:\n",
    "    if element == \"Antarktis\":\n",
    "        continue\n",
    "    print(element)"
   ]
  },
  {
   "cell_type": "code",
   "execution_count": 65,
   "id": "5eb57816-4b0c-4133-8396-4f9a5672397f",
   "metadata": {},
   "outputs": [
    {
     "name": "stdout",
     "output_type": "stream",
     "text": [
      "Asien\n",
      "Antarktis\n"
     ]
    }
   ],
   "source": [
    "# Übung 1.c\n",
    "stuff = [\"Asien\", \"Max\", 101, \"Monika\", \"China\", \"Simbabwe\", \"Antarktis\"]\n",
    "for composant in stuff:\n",
    "    if composant in continents:\n",
    "       print(composant)"
   ]
  },
  {
   "cell_type": "code",
   "execution_count": 6,
   "id": "30ec898f-b1f9-4f95-aa10-0ee50159f56b",
   "metadata": {},
   "outputs": [
    {
     "name": "stdout",
     "output_type": "stream",
     "text": [
      "2\n"
     ]
    }
   ],
   "source": [
    "# Übung 1.d\n",
    "continents = [\"Afrika\", \"Antarktis\", \"Asien\", \"Australien und Ozeanien\", \"Europa\", \"Nordamerika\", \"Südamerika\"]\n",
    "stuff = [\"Asien\", \"Max\", 101, \"Monika\", \"China\", \"Simbabwe\", \"Antarktis\"]\n",
    "count = 0\n",
    "for composant in stuff:\n",
    "    if composant in continents:\n",
    "        count += 1\n",
    "print(count)"
   ]
  },
  {
   "cell_type": "code",
   "execution_count": null,
   "id": "3308f6b7-8342-4542-ba77-4b052025ca63",
   "metadata": {},
   "outputs": [],
   "source": [
    "# Übung 2.a\n",
    "price = float(input(\"Enter the Price of the article: \"))\n",
    "if 0 < price <= 20:\n",
    "    np = price - price*0.2\n",
    "    print(\"You have 20% of reduction on the article. Now you should pay \"+str(np))\n",
    "elif 21 <= price <= 20:\n",
    "    np = price - price*0.4\n",
    "    print(\"You have 40% of reduction on the article. Now you should pay \"+str(np))\n",
    "else:\n",
    "    np = price - price*0.6\n",
    "    print(\"You have 60% of reduction on the article. Now you should pay \"+str(np))"
   ]
  },
  {
   "cell_type": "code",
   "execution_count": 3,
   "id": "beb5fb83-ec85-48e7-bcd4-c47737e2b452",
   "metadata": {},
   "outputs": [
    {
     "name": "stdout",
     "output_type": "stream",
     "text": [
      "[1.6, 30.0, 28.0, 18.0]\n"
     ]
    }
   ],
   "source": [
    "# Übung 2.b\n",
    "prices = [2, 50, 70, 30]\n",
    "new_prices =[]\n",
    "\n",
    "for element in prices:\n",
    "    if 0 < element <= 20:\n",
    "        np = element - element*0.2\n",
    "        new_prices.append(np)\n",
    "    elif 21 <= element <= 50:\n",
    "        np = element - element*0.4\n",
    "        new_prices.append(np)\n",
    "    else:\n",
    "        np = element - element*0.6\n",
    "        new_prices.append(np)\n",
    "print(new_prices)"
   ]
  },
  {
   "cell_type": "code",
   "execution_count": 5,
   "id": "a339ed8b-d27d-45af-bcec-7a9871462f72",
   "metadata": {},
   "outputs": [
    {
     "name": "stdout",
     "output_type": "stream",
     "text": [
      "[24.0, 21, 17.4, 30.0, 101]\n"
     ]
    }
   ],
   "source": [
    "# Übung 2.c\n",
    "chaos =[\"old price: 40\", \"new price: 21\", \"old price: 29\", \"old price: 50\", \"new price: 101\"]\n",
    "order = []\n",
    "\n",
    "for element in chaos:\n",
    "    price = int(element.split(\": \")[1])\n",
    "    if \"old\" in element and 0 < price <= 20:\n",
    "        price *= 0.8\n",
    "        order.append(price)\n",
    "    elif \"old\" in element and 21 <= price <= 50:\n",
    "        price *= 0.6\n",
    "        order.append(price)\n",
    "    elif \"old\" in element and price >= 51:\n",
    "        price *= 0.4\n",
    "        order.append(price)\n",
    "    else:\n",
    "        order.append(price)\n",
    "print(order)"
   ]
  },
  {
   "cell_type": "code",
   "execution_count": 7,
   "id": "e11c1cac-e074-46b3-a86d-250f544f56da",
   "metadata": {},
   "outputs": [
    {
     "name": "stdout",
     "output_type": "stream",
     "text": [
      "Ich heiße 30 und bin Max Jahre alt.\n"
     ]
    }
   ],
   "source": [
    "\"\"\"\n",
    "text = \"Python is eine großartige Programmiersprache\"\n",
    "print(text.count(\"Python\"))\n",
    "print(text.count(\"a\"))\n",
    "print(text.count(\" \"))\n",
    "\"\"\"\n",
    "name = \"Max\"\n",
    "Alter = 30\n",
    "print(\"Ich heiße {1} und bin {0} Jahre alt.\".format(name,Alter))"
   ]
  },
  {
   "cell_type": "code",
   "execution_count": null,
   "id": "746ab2db-e7f8-4f56-a653-ed62cf2edfe6",
   "metadata": {},
   "outputs": [],
   "source": []
  },
  {
   "cell_type": "code",
   "execution_count": 31,
   "id": "9defdace-52ec-4441-b35e-da0624ecb6d6",
   "metadata": {},
   "outputs": [
    {
     "name": "stdout",
     "output_type": "stream",
     "text": [
      "Current date and time: 31-12-2024\n",
      "Current Date: 2024-12-31\n",
      "Day: 31\n",
      "Month: 12\n",
      "Year: 2024\n"
     ]
    }
   ],
   "source": [
    "import datetime\n",
    "#Current date and time\n",
    "current = datetime.datetime.now().strftime(\"%d-%m-%Y\")\n",
    "print(f\"Current date and time: {current}\")\n",
    "\n",
    "#Current date\n",
    "current_date = datetime.date.today()\n",
    "print(f\"Current Date: {current_date}\")\n",
    "\n",
    "#Extracting Year,Month,Day\n",
    "current_date = datetime.date.today()\n",
    "year = current_date.year\n",
    "month = current_date.month\n",
    "Day = current_date.day\n",
    "print(f\"Day: {Day}\")\n",
    "print(f\"Month: {month}\")\n",
    "print(f\"Year: {year}\")"
   ]
  },
  {
   "cell_type": "code",
   "execution_count": 21,
   "id": "70935a89-9f9f-423b-89ef-8d15e83758c0",
   "metadata": {},
   "outputs": [
    {
     "name": "stdout",
     "output_type": "stream",
     "text": [
      "Current time: 17:07:13.913451\n",
      "Custom datetime: 2024-03-12 20:27:00\n",
      "Custom time: 2024-03-12\n"
     ]
    }
   ],
   "source": [
    "# Work with Time\n",
    "current_time = datetime.datetime.now().time()\n",
    "print(f\"Current time: {current_time}\")\n",
    "\n",
    "#creating our own defined or data by specifying the year,month,day,hour,minute,second\n",
    "custom_datetime = datetime.datetime(2024, 3, 12, 20, 27, 00)\n",
    "print(f\"Custom datetime: {custom_datetime}\")\n",
    "\n",
    "custom_time = datetime.date(2024, 3, 12)\n",
    "print(f\"Custom time: {custom_time}\")"
   ]
  },
  {
   "cell_type": "code",
   "execution_count": 35,
   "id": "912128a2-0399-45bf-83cd-d36c95b7230c",
   "metadata": {},
   "outputs": [
    {
     "name": "stdout",
     "output_type": "stream",
     "text": [
      "Formatted Date: Tue, 31/12/2024\n",
      "Formatted Time: 17:30:40\n"
     ]
    }
   ],
   "source": [
    "#Formating Dates and Times (convert dates and times  objects into strings)\n",
    "current_time = datetime.datetime.now()\n",
    "\n",
    "formatted_date = current_time.strftime(\"%a, %d/%m/%Y\")\n",
    "formatted_time = current_time.strftime(\"%H:%M:%S\")\n",
    "\n",
    "print(f\"Formatted Date: {formatted_date}\")\n",
    "print(f\"Formatted Time: {formatted_time}\")"
   ]
  },
  {
   "cell_type": "code",
   "execution_count": 37,
   "id": "184c5739-90f3-4fe1-8637-3dc86e5358ce",
   "metadata": {},
   "outputs": [
    {
     "name": "stdout",
     "output_type": "stream",
     "text": [
      "Parsed Date: 2024-12-20 00:00:00\n"
     ]
    }
   ],
   "source": [
    "#Parsing Strings to dates \n",
    "date_str = \"20/12/2024\"\n",
    "parsed_date = datetime.datetime.strptime(date_str, \"%d/%m/%Y\")\n",
    "print(f\"Parsed Date: {parsed_date}\")"
   ]
  },
  {
   "cell_type": "code",
   "execution_count": 35,
   "id": "31572092-cafb-4343-ad6c-1bc9bc33e8b8",
   "metadata": {},
   "outputs": [
    {
     "name": "stdout",
     "output_type": "stream",
     "text": [
      "New date: 2025-01-07\n",
      "Time 2 hrs ago: 2025-01-02 06:10:04.646989\n",
      "4 \n",
      "\n",
      "Thu Jan  2 00:00:00 2025\n",
      "datetime.IsoCalendarDate(year=2025, week=1, weekday=4)\n",
      "2025-01-02\n",
      "time.struct_time(tm_year=2025, tm_mon=1, tm_mday=2, tm_hour=0, tm_min=0, tm_sec=0, tm_wday=3, tm_yday=2, tm_isdst=-1)\n",
      "Donnerstag, 02th Januar 2025\n"
     ]
    }
   ],
   "source": [
    "#Time Delta( to do operations like adding two days,add minutes,hours and seconds)\n",
    "#Adding 5 days to the current date\n",
    "from datetime import datetime,date,time,timedelta\n",
    "import locale\n",
    "current_date = date.today()\n",
    "new_date = current_date + timedelta(days=5)\n",
    "print(f\"New date: {new_date}\")\n",
    "\n",
    "#Substracting 2 hours from the Current time\n",
    "current_time = datetime.now()\n",
    "new_time = current_time - timedelta(hours=2)\n",
    "print(f\"Time 2 hrs ago: {new_time}\")\n",
    "\n",
    "today = date.today().weekday()+1  #Return the day of the week represented by the date.     Monday == 0 ... Sunday == 6\n",
    "print(today,\"\\n\")\n",
    "\n",
    "today = date.today().ctime() #Return ctime() style string.\n",
    "print(today)\n",
    "\n",
    "today = date.today().isocalendar() #Return a named tuple containing ISO year, week number, and weekday.\n",
    "print(today)\n",
    "\n",
    "today = date.today().isoformat() #Return string in ISO 8601 format, YYYY-MM-DD\n",
    "print(today)\n",
    "\n",
    "today = date.today().timetuple() #Return time tuple, compatible with time.localtime().\n",
    "print(today)\n",
    "\n",
    "locale.setlocale(locale.LC_ALL, 'de_DE')\n",
    "today = datetime.now()\n",
    "today_1 = today.strftime(\"%A, %dth %B %Y\")\n",
    "print(today_1)"
   ]
  },
  {
   "cell_type": "code",
   "execution_count": 26,
   "id": "334f69cf-cbdd-40d6-b4f8-6f7e6ea3d322",
   "metadata": {},
   "outputs": [
    {
     "name": "stdout",
     "output_type": "stream",
     "text": [
      "You have lived for 19586 days\n"
     ]
    }
   ],
   "source": [
    "#Difference between two dates\n",
    "date1 = datetime.date(2024, 12, 24)\n",
    "date2 = datetime.date(1971, 5, 11)\n",
    "\n",
    "difference = date1 - date2\n",
    "print(f\"You have lived for {difference.days} days\")"
   ]
  },
  {
   "cell_type": "code",
   "execution_count": 2,
   "id": "0a040b4b-bd36-4a99-8981-951e2b7866e6",
   "metadata": {},
   "outputs": [
    {
     "name": "stdout",
     "output_type": "stream",
     "text": [
      "Current time: 10:47:52"
     ]
    },
    {
     "ename": "KeyboardInterrupt",
     "evalue": "",
     "output_type": "error",
     "traceback": [
      "\u001b[1;31m---------------------------------------------------------------------------\u001b[0m",
      "\u001b[1;31mKeyboardInterrupt\u001b[0m                         Traceback (most recent call last)",
      "Cell \u001b[1;32mIn[2], line 6\u001b[0m\n\u001b[0;32m      4\u001b[0m current_time \u001b[38;5;241m=\u001b[39m time\u001b[38;5;241m.\u001b[39mstrftime(\u001b[38;5;124m\"\u001b[39m\u001b[38;5;124m%\u001b[39m\u001b[38;5;124mH:\u001b[39m\u001b[38;5;124m%\u001b[39m\u001b[38;5;124mM:\u001b[39m\u001b[38;5;124m%\u001b[39m\u001b[38;5;124mS\u001b[39m\u001b[38;5;124m\"\u001b[39m)\n\u001b[0;32m      5\u001b[0m \u001b[38;5;28mprint\u001b[39m(\u001b[38;5;124mf\u001b[39m\u001b[38;5;124m\"\u001b[39m\u001b[38;5;130;01m\\r\u001b[39;00m\u001b[38;5;124mCurrent time: \u001b[39m\u001b[38;5;132;01m{\u001b[39;00mcurrent_time\u001b[38;5;132;01m}\u001b[39;00m\u001b[38;5;124m\"\u001b[39m,end\u001b[38;5;241m=\u001b[39m \u001b[38;5;124m\"\u001b[39m\u001b[38;5;124m\"\u001b[39m)\n\u001b[1;32m----> 6\u001b[0m time\u001b[38;5;241m.\u001b[39msleep(\u001b[38;5;241m1\u001b[39m)\n",
      "\u001b[1;31mKeyboardInterrupt\u001b[0m: "
     ]
    }
   ],
   "source": [
    "# Digital Watch\n",
    "import time\n",
    "while True:\n",
    "    current_time = time.strftime(\"%H:%M:%S\")\n",
    "    print(f\"\\rCurrent time: {current_time}\",end= \"\")\n",
    "    time.sleep(1)"
   ]
  }
 ],
 "metadata": {
  "kernelspec": {
   "display_name": "Python 3 (ipykernel)",
   "language": "python",
   "name": "python3"
  },
  "language_info": {
   "codemirror_mode": {
    "name": "ipython",
    "version": 3
   },
   "file_extension": ".py",
   "mimetype": "text/x-python",
   "name": "python",
   "nbconvert_exporter": "python",
   "pygments_lexer": "ipython3",
   "version": "3.11.7"
  },
  "vscode": {
   "interpreter": {
    "hash": "994506fe0065730f5b18d49998d1e911da3aca07a95357296e63b2190d100ccc"
   }
  }
 },
 "nbformat": 4,
 "nbformat_minor": 5
}
