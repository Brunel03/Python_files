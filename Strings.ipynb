{
 "cells": [
  {
   "cell_type": "code",
   "execution_count": 7,
   "id": "6ab1437b-12cf-41e3-bbfa-0aa03397d91c",
   "metadata": {},
   "outputs": [
    {
     "name": "stdout",
     "output_type": "stream",
     "text": [
      "Ich bin Max\n"
     ]
    }
   ],
   "source": [
    "name =\"Max\"\n",
    "print(\"Ich bin \" + name)"
   ]
  },
  {
   "cell_type": "code",
   "execution_count": 1,
   "id": "98b0d323-e0ab-45b0-b1ea-e7f6b462f9f1",
   "metadata": {},
   "outputs": [
    {
     "ename": "TypeError",
     "evalue": "can only concatenate str (not \"int\") to str",
     "output_type": "error",
     "traceback": [
      "\u001b[1;31m---------------------------------------------------------------------------\u001b[0m",
      "\u001b[1;31mTypeError\u001b[0m                                 Traceback (most recent call last)",
      "Cell \u001b[1;32mIn[1], line 2\u001b[0m\n\u001b[0;32m      1\u001b[0m age \u001b[38;5;241m=\u001b[39m \u001b[38;5;241m23\u001b[39m\n\u001b[1;32m----> 2\u001b[0m \u001b[38;5;28mprint\u001b[39m(\u001b[38;5;124m\"\u001b[39m\u001b[38;5;124mIch bin \u001b[39m\u001b[38;5;124m\"\u001b[39m \u001b[38;5;241m+\u001b[39m age)\n",
      "\u001b[1;31mTypeError\u001b[0m: can only concatenate str (not \"int\") to str"
     ]
    }
   ],
   "source": [
    "age = 23\n",
    "print(\"Ich bin \" + age)"
   ]
  },
  {
   "cell_type": "code",
   "execution_count": 2,
   "id": "6eea42f1-aa9e-4f0f-a5df-83afc9386630",
   "metadata": {},
   "outputs": [
    {
     "name": "stdout",
     "output_type": "stream",
     "text": [
      "Ich bin 23\n"
     ]
    }
   ],
   "source": [
    "age = '23'\n",
    "print(\"Ich bin \" + age)"
   ]
  },
  {
   "cell_type": "code",
   "execution_count": 5,
   "id": "b74244e3-6a5c-45e6-828d-cb795da2a6f2",
   "metadata": {},
   "outputs": [
    {
     "name": "stdout",
     "output_type": "stream",
     "text": [
      "Ich bin 23\n"
     ]
    }
   ],
   "source": [
    "age = 23\n",
    "print(\"Ich bin \" + str(age))"
   ]
  },
  {
   "cell_type": "code",
   "execution_count": 6,
   "id": "0a59750b-6589-4c69-86a7-94bab4f81d45",
   "metadata": {},
   "outputs": [
    {
     "name": "stdout",
     "output_type": "stream",
     "text": [
      "1000000\n",
      "1.000000e+06\n"
     ]
    }
   ],
   "source": [
    "#F-string tricks in Python\n",
    "#Trick 1\n",
    "n = 1000000\n",
    "print(f\"{n:-}\")\n",
    "print(f\"{n:e}\")"
   ]
  },
  {
   "cell_type": "code",
   "execution_count": 7,
   "id": "5143c3b8-f316-4bbc-b72a-a6f28ef1c2bc",
   "metadata": {},
   "outputs": [
    {
     "name": "stdout",
     "output_type": "stream",
     "text": [
      "..........Evans\n",
      "Evans..........\n",
      ".....Evans.....\n"
     ]
    },
    {
     "ename": "ValueError",
     "evalue": "Invalid format specifier '!s' for object of type 'str'",
     "output_type": "error",
     "traceback": [
      "\u001b[1;31m---------------------------------------------------------------------------\u001b[0m",
      "\u001b[1;31mValueError\u001b[0m                                Traceback (most recent call last)",
      "Cell \u001b[1;32mIn[7], line 6\u001b[0m\n\u001b[0;32m      4\u001b[0m \u001b[38;5;28mprint\u001b[39m(\u001b[38;5;124mf\u001b[39m\u001b[38;5;124m\"\u001b[39m\u001b[38;5;132;01m{\u001b[39;00mname\u001b[38;5;132;01m:\u001b[39;00m\u001b[38;5;124m.<15\u001b[39m\u001b[38;5;132;01m}\u001b[39;00m\u001b[38;5;124m\"\u001b[39m)\u001b[38;5;66;03m#left\u001b[39;00m\n\u001b[0;32m      5\u001b[0m \u001b[38;5;28mprint\u001b[39m(\u001b[38;5;124mf\u001b[39m\u001b[38;5;124m\"\u001b[39m\u001b[38;5;132;01m{\u001b[39;00mname\u001b[38;5;132;01m:\u001b[39;00m\u001b[38;5;124m.^15\u001b[39m\u001b[38;5;132;01m}\u001b[39;00m\u001b[38;5;124m\"\u001b[39m)\u001b[38;5;66;03m#center\u001b[39;00m\n\u001b[1;32m----> 6\u001b[0m \u001b[38;5;28mprint\u001b[39m(\u001b[38;5;124mf\u001b[39m\u001b[38;5;124m\"\u001b[39m\u001b[38;5;132;01m{\u001b[39;00mname\u001b[38;5;132;01m:\u001b[39;00m\u001b[38;5;124m!s\u001b[39m\u001b[38;5;132;01m}\u001b[39;00m\u001b[38;5;124m\"\u001b[39m)\n",
      "\u001b[1;31mValueError\u001b[0m: Invalid format specifier '!s' for object of type 'str'"
     ]
    }
   ],
   "source": [
    "#Trick 2\n",
    "name = \"Evans\"\n",
    "print(f\"{name:.>15}\")#right\n",
    "print(f\"{name:.<15}\")#left\n",
    "print(f\"{name:.^15}\")#center\n",
    "print(f\"{name:!s}\")"
   ]
  },
  {
   "cell_type": "code",
   "execution_count": 21,
   "id": "24cf33a9-0ab9-4055-a486-7dbb953923a1",
   "metadata": {},
   "outputs": [
    {
     "name": "stdout",
     "output_type": "stream",
     "text": [
      "2024-11-17 19:47:58.649036\n",
      "17.11.24\n",
      "17.11.24 19:47:58\n",
      "Sun Nov 17 19:47:58 2024\n",
      "07PM\n"
     ]
    }
   ],
   "source": [
    "#Trick 3\n",
    "from datetime import datetime\n",
    "now = datetime.now()\n",
    "print(f\"{now}\")\n",
    "print(f\"{now:%d.%m.%y}\")# to show the date in these format(day.month.year)\n",
    "print(f\"{now:%d.%m.%y %H:%M:%S}\")#to show the date and time in these format: day.month.year  hour:minute:second \n",
    "print(f\"{now:%c}\")\n",
    "print(f\"{now:%I%p}\")"
   ]
  },
  {
   "cell_type": "code",
   "execution_count": 26,
   "id": "03b8825d-8b42-4a3b-a205-b602d26961d2",
   "metadata": {},
   "outputs": [
    {
     "name": "stdout",
     "output_type": "stream",
     "text": [
      "a + b = 15\n",
      "a + b = 15\n"
     ]
    }
   ],
   "source": [
    "#Trick 4\n",
    "a = 5\n",
    "b = 10\n",
    "my_var = \"Bob says hi\"\n",
    "print(f\"a + b = {a+b}\")\n",
    "print(f\"{a + b = }\")#gleich wie oben"
   ]
  }
 ],
 "metadata": {
  "kernelspec": {
   "display_name": "Python 3 (ipykernel)",
   "language": "python",
   "name": "python3"
  },
  "language_info": {
   "codemirror_mode": {
    "name": "ipython",
    "version": 3
   },
   "file_extension": ".py",
   "mimetype": "text/x-python",
   "name": "python",
   "nbconvert_exporter": "python",
   "pygments_lexer": "ipython3",
   "version": "3.11.7"
  }
 },
 "nbformat": 4,
 "nbformat_minor": 5
}
