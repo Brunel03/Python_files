{
 "cells": [
  {
   "cell_type": "code",
   "execution_count": 2,
   "id": "7eb377e3-62ef-4cee-b846-0e97f7f373a9",
   "metadata": {},
   "outputs": [
    {
     "name": "stdout",
     "output_type": "stream",
     "text": [
      "Ich heiße Bavoua Tabakem Brunel\n"
     ]
    }
   ],
   "source": [
    "from Free import data\n",
    "data.name()"
   ]
  },
  {
   "cell_type": "code",
   "execution_count": 1,
   "id": "b14d5cb7-753d-4f46-a431-e69bf057bb88",
   "metadata": {},
   "outputs": [
    {
     "name": "stdout",
     "output_type": "stream",
     "text": [
      "Ich heiße Bavoua Tabakem Brunel\n",
      "Amsterdam, Berlin, München, Washington DC, Yaounde\n"
     ]
    }
   ],
   "source": [
    "from Free import *\n",
    "data.name()\n",
    "data.city()"
   ]
  },
  {
   "cell_type": "code",
   "execution_count": null,
   "id": "cff0e4b2-8334-4d4b-9215-1f9b895856da",
   "metadata": {},
   "outputs": [
    {
     "ename": "",
     "evalue": "",
     "output_type": "error",
     "traceback": [
      "\u001b[1;31mLes cellules en cours d’exécution avec Python 3.10.5 64-bit nécessitent ipykernel package.\n",
      "\u001b[1;31mExécutez la commande suivante pour installer 'ipykernel' dans l’environnement Python. \n",
      "\u001b[1;31mCommande : 'c:/Users/amour/AppData/Local/Programs/Python/Python310/python.exe -m pip install ipykernel -U --user --force-reinstall'"
     ]
    }
   ],
   "source": [
    "import Free\n",
    "Free.data.name()"
   ]
  },
  {
   "cell_type": "code",
   "execution_count": 4,
   "id": "acbce9d1-121d-4b36-a825-86973e30b1d0",
   "metadata": {},
   "outputs": [
    {
     "name": "stdout",
     "output_type": "stream",
     "text": [
      "3.11.7 | packaged by Anaconda, Inc. | (main, Dec 15 2023, 18:05:47) [MSC v.1916 64 bit (AMD64)]\n"
     ]
    }
   ],
   "source": [
    "import sys\n",
    "print(sys.version)"
   ]
  }
 ],
 "metadata": {
  "kernelspec": {
   "display_name": "Python 3.10.5 64-bit",
   "language": "python",
   "name": "python3"
  },
  "language_info": {
   "codemirror_mode": {
    "name": "ipython",
    "version": 3
   },
   "file_extension": ".py",
   "mimetype": "text/x-python",
   "name": "python",
   "nbconvert_exporter": "python",
   "pygments_lexer": "ipython3",
   "version": "3.10.5"
  },
  "vscode": {
   "interpreter": {
    "hash": "e83131cdee894a1693e10973def511483987200d9c4560dda4c21b52196eadb1"
   }
  }
 },
 "nbformat": 4,
 "nbformat_minor": 5
}
