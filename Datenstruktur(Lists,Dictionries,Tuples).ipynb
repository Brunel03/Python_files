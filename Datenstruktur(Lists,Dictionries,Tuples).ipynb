{
 "cells": [
  {
   "cell_type": "code",
   "execution_count": 7,
   "id": "e3065e68-80c2-4f7a-8b93-b99ad9fb566e",
   "metadata": {},
   "outputs": [
    {
     "name": "stdout",
     "output_type": "stream",
     "text": [
      "Pays: Cameroun\n",
      "Capitale: Yaounde\n",
      "Superficie: 475442 km²\n",
      "Monnaie: FCFA\n",
      "Regions: ['Extrême-nord', 'Nord', 'Adamaoua', 'Nord-ouest', 'Sud-ouest', 'Ouest', 'Littoral', 'Centre', 'Sud', 'Est']\n",
      "{'Pays': 'Cameroun', 'Capitale': 'Yaounde', 'Superficie': '475442 km²', 'Monnaie': 'FCFA', 'Regions': ['Extrême-nord', 'Nord', 'Adamaoua', 'Nord-ouest', 'Sud-ouest', 'Ouest', 'Littoral', 'Centre', 'Sud', 'Est']}\n"
     ]
    },
    {
     "data": {
      "text/plain": [
       "['__class__',\n",
       " '__class_getitem__',\n",
       " '__contains__',\n",
       " '__delattr__',\n",
       " '__delitem__',\n",
       " '__dir__',\n",
       " '__doc__',\n",
       " '__eq__',\n",
       " '__format__',\n",
       " '__ge__',\n",
       " '__getattribute__',\n",
       " '__getitem__',\n",
       " '__getstate__',\n",
       " '__gt__',\n",
       " '__hash__',\n",
       " '__init__',\n",
       " '__init_subclass__',\n",
       " '__ior__',\n",
       " '__iter__',\n",
       " '__le__',\n",
       " '__len__',\n",
       " '__lt__',\n",
       " '__ne__',\n",
       " '__new__',\n",
       " '__or__',\n",
       " '__reduce__',\n",
       " '__reduce_ex__',\n",
       " '__repr__',\n",
       " '__reversed__',\n",
       " '__ror__',\n",
       " '__setattr__',\n",
       " '__setitem__',\n",
       " '__sizeof__',\n",
       " '__str__',\n",
       " '__subclasshook__',\n",
       " 'clear',\n",
       " 'copy',\n",
       " 'fromkeys',\n",
       " 'get',\n",
       " 'items',\n",
       " 'keys',\n",
       " 'pop',\n",
       " 'popitem',\n",
       " 'setdefault',\n",
       " 'update',\n",
       " 'values']"
      ]
     },
     "execution_count": 7,
     "metadata": {},
     "output_type": "execute_result"
    }
   ],
   "source": [
    "d = {\"Pays\":\"Cameroun\",\n",
    "     \"Capitale\":\"Yaounde\",\n",
    "     \"Superficie\":\"475442 km²\",\n",
    "     \"Monnaie\":\"FCFA\",\n",
    "     \"Regions\":[\"Extrême-nord\",\"Nord\",\"Adamaoua\",\"Nord-ouest\",\"Sud-ouest\",\"Ouest\",\"Littoral\",\"Centre\",\"Sud\",\"Est\"]}\n",
    "#print(d.items())\n",
    "for key,value in d.items():\n",
    "    print(f\"{key}: {value}\")\n",
    "print(d)\n",
    "dir(d)"
   ]
  },
  {
   "cell_type": "code",
   "execution_count": 34,
   "id": "7d753e9b-f570-4cca-ada3-e09d1f7b4014",
   "metadata": {},
   "outputs": [
    {
     "name": "stdout",
     "output_type": "stream",
     "text": [
      "(0, 1, 2, 3, 4)\n"
     ]
    }
   ],
   "source": [
    "m = (0,1,2,3,4)\n",
    "print(m)"
   ]
  },
  {
   "cell_type": "code",
   "execution_count": 46,
   "id": "83ffcb56-8f8f-4aab-bc53-205226e54cbe",
   "metadata": {},
   "outputs": [
    {
     "name": "stdout",
     "output_type": "stream",
     "text": [
      "Hexer66\n"
     ]
    }
   ],
   "source": [
    "m = \"Hexer666\"\n",
    "print(m[:-1])"
   ]
  },
  {
   "cell_type": "code",
   "execution_count": 5,
   "id": "1348bc89-ba8f-4c7a-975d-c29fd069a1e4",
   "metadata": {},
   "outputs": [
    {
     "name": "stdout",
     "output_type": "stream",
     "text": [
      "Combien d'éleves avez vous:  1\n",
      "Combien de Matieres y'a t'il:  2\n",
      "Entrer le nom de l'éleve:  Brunel\n",
      "Entrer le Nom de la Matière:  Mathematiques\n",
      "Entrer la note:  12\n",
      "Entrer le Nom de la Matière:  Physique\n",
      "Entrer la note:  14.5\n"
     ]
    },
    {
     "name": "stdout",
     "output_type": "stream",
     "text": [
      "\n",
      "\n",
      "Brunel: \n",
      "\t +---------------+---------+\n",
      "| MATIERES      |   NOTES |\n",
      "+===============+=========+\n",
      "| Mathematiques |    12   |\n",
      "+---------------+---------+\n",
      "| Physique      |    14.5 |\n",
      "+---------------+---------+\n"
     ]
    }
   ],
   "source": [
    "# User input in nested Dictionary\n",
    "from tabulate import tabulate\n",
    "n = int(input(\"Combien d'éleves avez vous: \"))\n",
    "eleves = {}\n",
    "n1 = int(input(\"Combien de Matieres y'a t'il: \"))\n",
    "for i in range(n):\n",
    "    key = input(\"Entrer le nom de l'éleve: \")\n",
    "    info = {}\n",
    "    for j in range(n1):\n",
    "        key_1 = input(\"Entrer le Nom de la Matière: \")\n",
    "        value_1 = float(input(\"Entrer la note: \"))  \n",
    "        info[key_1] = value_1\n",
    "    eleves[key] = info\n",
    "    print(\"\\n\")\n",
    "    \n",
    "for key,info in eleves.items():\n",
    "    print(f\"{key}: \")\n",
    "    print(tabulate(info.items(), headers = [\"MATIERES\",\"NOTES\"], tablefmt = \"grid\"))\n",
    "    #for key_1,value_1 in info.items():\n",
    "        #print(f\"\\t{key_1}: {value_1}\")\n",
    "        "
   ]
  },
  {
   "cell_type": "code",
   "execution_count": 3,
   "id": "433ae1cf-4bd0-4937-a213-1d2117bf8eb9",
   "metadata": {},
   "outputs": [],
   "source": [
    "def moyenne(notes,coefs):\n",
    "    somme_produit = sum(x * y for x,y in zip(notes,coefs))\n",
    "    somme_coef = sum(coefs)\n",
    "    moy = somme_produit / somme_coef\n",
    "    return moy"
   ]
  },
  {
   "cell_type": "code",
   "execution_count": 6,
   "id": "c4767eda-f2a6-48ac-ba26-7bcd458f585e",
   "metadata": {},
   "outputs": [
    {
     "name": "stdout",
     "output_type": "stream",
     "text": [
      "Combien d'éleves avez vous:  2\n",
      "Combien de Matieres y'a t'il:  2\n",
      "Entrer le nom de l'éleve:  Sven\n",
      "Entrer le Nom de la Matière:  Maths\n",
      "Entrer la note:  12\n",
      "Entrer le coefficient de la matière:  4\n",
      "Entrer le Nom de la Matière:  Physique\n",
      "Entrer la note:  10\n",
      "Entrer le coefficient de la matière:  3\n"
     ]
    },
    {
     "name": "stdout",
     "output_type": "stream",
     "text": [
      "\n",
      "\n"
     ]
    },
    {
     "name": "stdout",
     "output_type": "stream",
     "text": [
      "Entrer le nom de l'éleve:  Marthe\n",
      "Entrer le Nom de la Matière:  SVT\n",
      "Entrer la note:  16\n",
      "Entrer le coefficient de la matière:  2\n",
      "Entrer le Nom de la Matière:  Infos\n",
      "Entrer la note:  14\n",
      "Entrer le coefficient de la matière:  2\n"
     ]
    },
    {
     "name": "stdout",
     "output_type": "stream",
     "text": [
      "\n",
      "\n",
      "Sven: \n",
      "+------------+---------+----------------+\n",
      "| MATIERES   |   NOTES |   COEFFICIENTS |\n",
      "+============+=========+================+\n",
      "| Maths      |      12 |              2 |\n",
      "+------------+---------+----------------+\n",
      "| Physique   |      10 |              2 |\n",
      "+------------+---------+----------------+\n",
      "Moyenne: 15.00\n",
      "Marthe: \n",
      "+------------+---------+----------------+\n",
      "| MATIERES   |   NOTES |   COEFFICIENTS |\n",
      "+============+=========+================+\n",
      "| SVT        |      16 |              2 |\n",
      "+------------+---------+----------------+\n",
      "| Infos      |      14 |              2 |\n",
      "+------------+---------+----------------+\n",
      "Moyenne: 15.00\n"
     ]
    }
   ],
   "source": [
    "from tabulate import tabulate\n",
    "n = int(input(\"Combien d'éleves avez vous: \"))\n",
    "eleves = {}\n",
    "n1 = int(input(\"Combien de Matieres y'a t'il: \"))\n",
    "for i in range(n):\n",
    "    key = input(\"Entrer le nom de l'éleve: \")\n",
    "    info = {}\n",
    "    coef = []\n",
    "    for j in range(n1):\n",
    "        key_1 = input(\"Entrer le Nom de la Matière: \")\n",
    "        value_1 = float(input(\"Entrer la note: \")) \n",
    "        c = float(input(\"Entrer le coefficient de la matière: \"))\n",
    "        coef.append(c)\n",
    "        info[key_1] = value_1\n",
    "    comb = list(zip(info.keys(),info.values(),coef))\n",
    "    eleves[key] = info\n",
    "    av = moyenne(info.values(),coef)\n",
    "    print(\"\\n\")\n",
    "\n",
    "\n",
    "for key,info in eleves.items():\n",
    "    print(f\"{key}: \")\n",
    "    comb = list(zip(info.keys(),info.values(),[coef[i] for i in range(len(info))]))\n",
    "    print(tabulate(comb, headers = [\"MATIERES\",\"NOTES\",\"COEFFICIENTS\"], tablefmt = \"grid\"))\n",
    "    print(f\"Moyenne: {av:.2f}\")"
   ]
  },
  {
   "cell_type": "code",
   "execution_count": 39,
   "id": "ebd787f9-32b9-41db-a82a-928afa9b7bcb",
   "metadata": {},
   "outputs": [
    {
     "name": "stdout",
     "output_type": "stream",
     "text": [
      "Nombre de Matières:  2\n"
     ]
    },
    {
     "name": "stdout",
     "output_type": "stream",
     "text": [
      "\n",
      "\n"
     ]
    },
    {
     "name": "stdout",
     "output_type": "stream",
     "text": [
      "Nom de la Matière:  Philosophie\n",
      "Entrer la note:  11\n",
      "Entrer le coefficient:  2\n"
     ]
    },
    {
     "name": "stdout",
     "output_type": "stream",
     "text": [
      "\n",
      "\n"
     ]
    },
    {
     "name": "stdout",
     "output_type": "stream",
     "text": [
      "Nom de la Matière:  Anglais\n",
      "Entrer la note:  18\n",
      "Entrer le coefficient:  3\n"
     ]
    },
    {
     "name": "stdout",
     "output_type": "stream",
     "text": [
      "\n",
      "\n",
      "[('Anglais', 18.0, 3), ('Philosophie', 11.0, 2)]\n",
      "+-------------+---------+----------------+\n",
      "| MATIERES    |   NOTES |   COEFFICIENTS |\n",
      "+=============+=========+================+\n",
      "| Anglais     |      18 |              3 |\n",
      "+-------------+---------+----------------+\n",
      "| Philosophie |      11 |              2 |\n",
      "+-------------+---------+----------------+\n"
     ]
    }
   ],
   "source": [
    "from tabulate import tabulate\n",
    "\n",
    "primary = []\n",
    "n_1 = int(input(\"Nombre de Matières: \"))\n",
    "print(\"\\n\")\n",
    "for i in range(n_1):\n",
    "    subject = input(\"Nom de la Matière: \")\n",
    "    s = float(input(\"Entrer la note: \"))\n",
    "    c = int(input(\"Entrer le coefficient: \"))\n",
    "    primary.append((subject,s,c))\n",
    "    print(\"\\n\")\n",
    "    primary.sort(key= lambda x:x[0]) \n",
    "\n",
    "print(primary)\n",
    "print(tabulate(primary, headers = [\"MATIERES\",\"NOTES\",\"COEFFICIENTS\"], tablefmt = \"grid\"))\n",
    "\n",
    "#for i, (subject,s,c) in enumerate(primary,1):\n",
    "#   print(f\"{i}- {subject}: {s}\")\n"
   ]
  },
  {
   "cell_type": "code",
   "execution_count": 37,
   "id": "0db7f89f-6038-4088-b3cc-501f1efaad0b",
   "metadata": {},
   "outputs": [
    {
     "name": "stdout",
     "output_type": "stream",
     "text": [
      "+------------+---------+----------------+\n",
      "| MATIERES   |   NOTES |   COEFFICIENTS |\n",
      "+============+=========+================+\n",
      "| Maths      |    11   |              7 |\n",
      "+------------+---------+----------------+\n",
      "| Physique   |    13   |              4 |\n",
      "+------------+---------+----------------+\n",
      "| Chimie     |    16.5 |              3 |\n",
      "+------------+---------+----------------+\n",
      "178.5 | 14\n",
      "Moyenne: 12.75\n"
     ]
    }
   ],
   "source": [
    "from tabulate import tabulate\n",
    "\n",
    "Note = [('Maths', 11.0, 7), ('Physique', 13.0, 4), ('Chimie', 16.5, 3)]\n",
    "som1 = sum(Note[i][1] * Note[i][2] for i in range(len(Note)))\n",
    "som2 = sum(Note[i][2] for i in range(len(Note)))\n",
    "moy = som1 / som2\n",
    "\n",
    "print(tabulate(Note, headers = [\"MATIERES\",\"NOTES\",\"COEFFICIENTS\"], tablefmt = \"grid\"))\n",
    "print(str(som1) +\" | \"+ str(som2))\n",
    "print(\"Moyenne: \" + str(moy))\n"
   ]
  },
  {
   "cell_type": "code",
   "execution_count": 24,
   "id": "0782ba62-1ab0-4e40-a9ad-4e3aa604ba15",
   "metadata": {},
   "outputs": [
    {
     "name": "stdout",
     "output_type": "stream",
     "text": [
      "............Boris.............\n",
      "\tMatiere: Maths\n",
      "\tNote: 11.0\n",
      "\tCoefficient: 7\n",
      "\n",
      "\tMatiere: Physique\n",
      "\tNote: 13.0\n",
      "\tCoefficient: 4\n",
      "\n",
      "\tMatiere: Chimie\n",
      "\tNote: 16.5\n",
      "\tCoefficient: 3\n",
      "\n",
      "Moyenne: 12.75\n"
     ]
    }
   ],
   "source": [
    "nom = \"Boris\"\n",
    "Note = [('Maths', 11.0, 7), ('Physique', 13.0, 4), ('Chimie', 16.5, 3)]\n",
    "#Note = [('Informatiques', 09.25, 4),('Anglais', 13, 3)]\n",
    "som1 = som2 = 0\n",
    "for i in range(len(Note)):\n",
    "    som1 += Note[i][1] * Note[i][2]\n",
    "    som2 += Note[i][2]\n",
    "moy = som1 / som2\n",
    "\n",
    "print(f\"{nom:.^30}\")\n",
    "for (s,m,c) in Note:\n",
    "    print(f\"\\tMatiere: {s}\\n\\tNote: {m}\\n\\tCoefficient: {c}\\n\")\n",
    "print(\"Moyenne: \"+str(moy))"
   ]
  },
  {
   "cell_type": "code",
   "execution_count": 4,
   "id": "5fe91755-9c8f-4a7e-8157-329173edd3b7",
   "metadata": {},
   "outputs": [],
   "source": [
    "def moyenne(note):\n",
    "    somme_produit = 0\n",
    "    somme_coef = 0\n",
    "    \n",
    "    somme_produit = sum(note[i][1] * note[i][2] for i in range(len(note)))\n",
    "    somme_coef = sum(note[i][2] for i in range(len(note)))\n",
    "    \n",
    "    moy = somme_produit / somme_coef\n",
    "    return moy"
   ]
  },
  {
   "cell_type": "code",
   "execution_count": null,
   "id": "98cb6a82-b178-4bc1-b3fd-71af8b539766",
   "metadata": {
    "scrolled": true
   },
   "outputs": [
    {
     "name": "stdout",
     "output_type": "stream",
     "text": [
      "Nombre de Matières:  2\n",
      "Nombre d'eleves:  1\n",
      "\n",
      "Nom de l'eleve: Brigitte\n",
      "\n",
      "Nom de la Matière:  ECM\n",
      "Entrer la note:  12.5\n",
      "Entrer le coefficient:  2\n"
     ]
    }
   ],
   "source": [
    "n1 = int(input(\"Nombre de Matières: \"))\n",
    "n2 = int(input(\"Nombre d'eleves: \"))\n",
    "eleves = {}\n",
    "som1 = som2 = 0\n",
    "for i in range(n2):\n",
    "    nom = input(\"\\nNom de l'eleve:\")   \n",
    "    primary = [(input(\"\\nNom de la Matière: \"), float(input(\"Entrer la note: \")), int(input(\"Entrer le coefficient: \"))) for j in range(n1)]\n",
    "    \n",
    "    #for j in range(n1):      # From here we calculate the average of the Student \n",
    "    #    som1 += primary[j][1] * primary[j][2]\n",
    "    #    som2 += primary[j][2]\n",
    "    #moy = som1 / som2        # end of the operation\n",
    "    moy = moyenne(primary)\n",
    "    eleves[nom] = {'marks': primary, 'average': moy}\n",
    "    \n",
    "for d,i in eleves.items():\n",
    "    print(f\"{d}: {i}\")\n",
    "    \n",
    "#for nom,info in eleves.items():\n",
    "#    print(f\"\\n{nom:.^30}\")\n",
    "#    for (s,m,c) in info['marks']:\n",
    "#        print(f\"\\tMatiere: {s}\\n\\tNote: {m}\\n\\tCoefficient: {c}\\n\")\n",
    "#    print(f\"Moyenne: {info['average']:.2f}\")\n",
    "\n",
    "    \n",
    "for nom,eleves in eleves.items():\n",
    "    print(f\"\\n{nom:.^30}\")\n",
    "    for (s,m,c) in eleves[nom]['marks']:\n",
    "        print(f\"\\tMatiere: {s}\\n\\tNote: {m}\\n\\tCoefficient: {c}\\n\")\n",
    "    print(f\"Moyenne: {eleves[nom]['average']:.2f}\")"
   ]
  },
  {
   "cell_type": "code",
   "execution_count": null,
   "id": "21504645-46ab-49fb-b526-9204c47a5e2a",
   "metadata": {},
   "outputs": [],
   "source": []
  }
 ],
 "metadata": {
  "kernelspec": {
   "display_name": "Python 3 (ipykernel)",
   "language": "python",
   "name": "python3"
  },
  "language_info": {
   "codemirror_mode": {
    "name": "ipython",
    "version": 3
   },
   "file_extension": ".py",
   "mimetype": "text/x-python",
   "name": "python",
   "nbconvert_exporter": "python",
   "pygments_lexer": "ipython3",
   "version": "3.11.7"
  }
 },
 "nbformat": 4,
 "nbformat_minor": 5
}
