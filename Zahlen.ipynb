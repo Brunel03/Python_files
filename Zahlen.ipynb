{
 "cells": [
  {
   "cell_type": "code",
   "execution_count": 1,
   "id": "e2e13f5f-25bc-4d81-810f-b3c7a32ed459",
   "metadata": {},
   "outputs": [
    {
     "name": "stdout",
     "output_type": "stream",
     "text": [
      "5\n"
     ]
    }
   ],
   "source": [
    "print(5)"
   ]
  },
  {
   "cell_type": "code",
   "execution_count": 5,
   "id": "f5c48237-2b65-4f9a-ad1f-17a52c4bd8be",
   "metadata": {},
   "outputs": [
    {
     "name": "stdout",
     "output_type": "stream",
     "text": [
      "9\n",
      "1\n",
      "20\n",
      "1.25\n"
     ]
    }
   ],
   "source": [
    "print(5 + 4)\n",
    "print(5 - 4)\n",
    "print(5 * 4)\n",
    "print(5 / 4)"
   ]
  },
  {
   "cell_type": "code",
   "execution_count": 9,
   "id": "938e191d-635a-44bf-b66e-1cf4d47f1f86",
   "metadata": {},
   "outputs": [
    {
     "ename": "TypeError",
     "evalue": "can only concatenate str (not \"int\") to str",
     "output_type": "error",
     "traceback": [
      "\u001b[1;31m---------------------------------------------------------------------------\u001b[0m",
      "\u001b[1;31mTypeError\u001b[0m                                 Traceback (most recent call last)",
      "Cell \u001b[1;32mIn[9], line 2\u001b[0m\n\u001b[0;32m      1\u001b[0m age \u001b[38;5;241m=\u001b[39m \u001b[38;5;241m23\u001b[39m \n\u001b[1;32m----> 2\u001b[0m \u001b[38;5;28mprint\u001b[39m(\u001b[38;5;124m'\u001b[39m\u001b[38;5;124mYou are \u001b[39m\u001b[38;5;124m'\u001b[39m\u001b[38;5;241m+\u001b[39mage\u001b[38;5;241m+\u001b[39m \u001b[38;5;124m'\u001b[39m\u001b[38;5;124m Years old.\u001b[39m\u001b[38;5;124m'\u001b[39m )\n",
      "\u001b[1;31mTypeError\u001b[0m: can only concatenate str (not \"int\") to str"
     ]
    }
   ],
   "source": [
    "print('You are '+age+ ' Years old.' ) #this will generate an error because we can´t concatenate an integer with a string\n",
    "age = 23 "
   ]
  },
  {
   "cell_type": "code",
   "execution_count": 10,
   "id": "b433897c-2a7b-4a0d-9c5c-bafb2c8ee73f",
   "metadata": {},
   "outputs": [
    {
     "name": "stdout",
     "output_type": "stream",
     "text": [
      "You are 23 Years old.\n"
     ]
    }
   ],
   "source": [
    "age = 23 \n",
    "print('You are '+str(age)+ ' Years old.' ) #Now it is better because we converted the integer in a String"
   ]
  },
  {
   "cell_type": "code",
   "execution_count": null,
   "id": "e2bb5115-0a9d-44a1-a8b9-4765e49764cb",
   "metadata": {},
   "outputs": [],
   "source": []
  },
  {
   "cell_type": "code",
   "execution_count": null,
   "id": "7576daa1-297c-41ae-9cef-ed0aa8581176",
   "metadata": {},
   "outputs": [],
   "source": [
    "# swap Variables\n",
    "a = int(input(\"Enter the value of a: \"))\n",
    "b = int(input(\"Enter the value of b: \"))\n",
    "cont = a # cont is a container that contains the variable a\n",
    "a = b # Now we are transfering the value of the variable b in a then we already store a in cont\n",
    "b = cont # and finally we transfer the value of a which were stored in cont in b\n",
    "print(\"Now a is equal to \"+str(a)+\" and b is equal to \"+str(b))"
   ]
  },
  {
   "cell_type": "code",
   "execution_count": null,
   "id": "d72a3275-8067-4937-bb12-bf1be4aa5f74",
   "metadata": {},
   "outputs": [],
   "source": []
  }
 ],
 "metadata": {
  "kernelspec": {
   "display_name": "Python 3 (ipykernel)",
   "language": "python",
   "name": "python3"
  },
  "language_info": {
   "codemirror_mode": {
    "name": "ipython",
    "version": 3
   },
   "file_extension": ".py",
   "mimetype": "text/x-python",
   "name": "python",
   "nbconvert_exporter": "python",
   "pygments_lexer": "ipython3",
   "version": "3.11.7"
  }
 },
 "nbformat": 4,
 "nbformat_minor": 5
}
